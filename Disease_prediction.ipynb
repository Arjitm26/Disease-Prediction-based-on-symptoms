{
  "metadata": {
    "kernelspec": {
      "language": "python",
      "display_name": "Python 3",
      "name": "python3"
    },
    "language_info": {
      "name": "python",
      "version": "3.10.13",
      "mimetype": "text/x-python",
      "codemirror_mode": {
        "name": "ipython",
        "version": 3
      },
      "pygments_lexer": "ipython3",
      "nbconvert_exporter": "python",
      "file_extension": ".py"
    },
    "kaggle": {
      "accelerator": "none",
      "dataSources": [
        {
          "sourceId": 7449146,
          "sourceType": "datasetVersion",
          "datasetId": 3316241
        }
      ],
      "dockerImageVersionId": 30698,
      "isInternetEnabled": true,
      "language": "python",
      "sourceType": "notebook",
      "isGpuEnabled": false
    },
    "colab": {
      "provenance": [],
      "include_colab_link": true
    }
  },
  "nbformat_minor": 0,
  "nbformat": 4,
  "cells": [
    {
      "cell_type": "markdown",
      "metadata": {
        "id": "view-in-github",
        "colab_type": "text"
      },
      "source": [
        "<a href=\"https://colab.research.google.com/github/Arjitm26/Disease-Prediction-based-on-symptoms/blob/main/Disease_prediction.ipynb\" target=\"_parent\"><img src=\"https://colab.research.google.com/assets/colab-badge.svg\" alt=\"Open In Colab\"/></a>"
      ]
    },
    {
      "cell_type": "code",
      "source": [
        "import pandas as pd\n",
        "from sklearn.model_selection import train_test_split\n",
        "from sklearn.preprocessing import StandardScaler, OneHotEncoder\n",
        "from sklearn.compose import ColumnTransformer\n",
        "from sklearn.pipeline import Pipeline\n",
        "import seaborn as sns\n",
        "import numpy as np\n",
        "import matplotlib.pyplot as plt\n",
        "from sklearn.linear_model import LogisticRegression\n",
        "from sklearn.ensemble import RandomForestClassifier, GradientBoostingClassifier\n",
        "from sklearn.svm import SVC\n",
        "from sklearn.metrics import classification_report, roc_auc_score"
      ],
      "metadata": {
        "_uuid": "8f2839f25d086af736a60e9eeb907d3b93b6e0e5",
        "_cell_guid": "b1076dfc-b9ad-4769-8c92-a6c4dae69d19",
        "execution": {
          "iopub.status.busy": "2024-05-26T23:48:33.452992Z",
          "iopub.execute_input": "2024-05-26T23:48:33.453763Z",
          "iopub.status.idle": "2024-05-26T23:48:34.784373Z",
          "shell.execute_reply.started": "2024-05-26T23:48:33.453732Z",
          "shell.execute_reply": "2024-05-26T23:48:34.783431Z"
        },
        "trusted": true,
        "id": "-U6sX0CqGpwR"
      },
      "execution_count": null,
      "outputs": []
    },
    {
      "cell_type": "code",
      "source": [
        "df = pd.read_csv('/kaggle/input/disease-symptoms-and-patient-profile-dataset/Disease_symptom_and_patient_profile_dataset.csv')"
      ],
      "metadata": {
        "execution": {
          "iopub.status.busy": "2024-05-26T23:48:37.54878Z",
          "iopub.execute_input": "2024-05-26T23:48:37.549566Z",
          "iopub.status.idle": "2024-05-26T23:48:37.56882Z",
          "shell.execute_reply.started": "2024-05-26T23:48:37.549532Z",
          "shell.execute_reply": "2024-05-26T23:48:37.567704Z"
        },
        "trusted": true,
        "id": "0VwKEk3YGpwT"
      },
      "execution_count": null,
      "outputs": []
    },
    {
      "cell_type": "code",
      "source": [
        "df.head"
      ],
      "metadata": {
        "execution": {
          "iopub.status.busy": "2024-05-26T21:32:10.006481Z",
          "iopub.execute_input": "2024-05-26T21:32:10.007366Z",
          "iopub.status.idle": "2024-05-26T21:32:10.020966Z",
          "shell.execute_reply.started": "2024-05-26T21:32:10.007325Z",
          "shell.execute_reply": "2024-05-26T21:32:10.019813Z"
        },
        "trusted": true,
        "id": "VDJ45TmYGpwT"
      },
      "execution_count": null,
      "outputs": []
    },
    {
      "cell_type": "code",
      "source": [
        "df.duplicated().sum()"
      ],
      "metadata": {
        "execution": {
          "iopub.status.busy": "2024-05-26T21:31:39.052521Z",
          "iopub.execute_input": "2024-05-26T21:31:39.052923Z",
          "iopub.status.idle": "2024-05-26T21:31:39.063744Z",
          "shell.execute_reply.started": "2024-05-26T21:31:39.052892Z",
          "shell.execute_reply": "2024-05-26T21:31:39.062656Z"
        },
        "trusted": true,
        "id": "aQIdE-80GpwU"
      },
      "execution_count": null,
      "outputs": []
    },
    {
      "cell_type": "code",
      "source": [
        "df.head()"
      ],
      "metadata": {
        "execution": {
          "iopub.status.busy": "2024-05-26T21:31:41.546073Z",
          "iopub.execute_input": "2024-05-26T21:31:41.546479Z",
          "iopub.status.idle": "2024-05-26T21:31:41.562904Z",
          "shell.execute_reply.started": "2024-05-26T21:31:41.546448Z",
          "shell.execute_reply": "2024-05-26T21:31:41.561568Z"
        },
        "trusted": true,
        "id": "7GotwJ-1GpwV"
      },
      "execution_count": null,
      "outputs": []
    },
    {
      "cell_type": "code",
      "source": [
        "# Bar plot for Gender\n",
        "sns.countplot(x='Gender', data=df)\n",
        "plt.title('Distribution of Gender')\n",
        "plt.show()"
      ],
      "metadata": {
        "execution": {
          "iopub.status.busy": "2024-05-26T21:31:43.260684Z",
          "iopub.execute_input": "2024-05-26T21:31:43.261363Z",
          "iopub.status.idle": "2024-05-26T21:31:43.513275Z",
          "shell.execute_reply.started": "2024-05-26T21:31:43.261327Z",
          "shell.execute_reply": "2024-05-26T21:31:43.512137Z"
        },
        "trusted": true,
        "id": "C_YjO0-9GpwX"
      },
      "execution_count": null,
      "outputs": []
    },
    {
      "cell_type": "code",
      "source": [
        "sns.catplot(x = 'Outcome Variable' , y = 'Age' , data = df , kind = \"swarm\")"
      ],
      "metadata": {
        "execution": {
          "iopub.status.busy": "2024-05-26T21:31:46.041753Z",
          "iopub.execute_input": "2024-05-26T21:31:46.042158Z",
          "iopub.status.idle": "2024-05-26T21:31:47.643376Z",
          "shell.execute_reply.started": "2024-05-26T21:31:46.042122Z",
          "shell.execute_reply": "2024-05-26T21:31:47.642143Z"
        },
        "trusted": true,
        "id": "o2FHNfOlGpwY"
      },
      "execution_count": null,
      "outputs": []
    },
    {
      "cell_type": "code",
      "source": [
        "sns.displot(df['Age'] , kde=True)"
      ],
      "metadata": {
        "execution": {
          "iopub.status.busy": "2024-05-26T21:26:21.74502Z",
          "iopub.execute_input": "2024-05-26T21:26:21.745424Z",
          "iopub.status.idle": "2024-05-26T21:26:22.255968Z",
          "shell.execute_reply.started": "2024-05-26T21:26:21.745393Z",
          "shell.execute_reply": "2024-05-26T21:26:22.254951Z"
        },
        "trusted": true,
        "id": "ONrp7DbUGpwY"
      },
      "execution_count": null,
      "outputs": []
    },
    {
      "cell_type": "code",
      "source": [
        "# Split data into train and test sets\n",
        "from sklearn.model_selection import train_test_split\n",
        "X = df.drop(['Outcome Variable'], axis=1)\n",
        "y = df['Outcome Variable']\n",
        "X_train, X_test, y_train, y_test = train_test_split(X, y, test_size=0.2, random_state=42, stratify=y)\n"
      ],
      "metadata": {
        "execution": {
          "iopub.status.busy": "2024-05-26T23:48:44.399913Z",
          "iopub.execute_input": "2024-05-26T23:48:44.400652Z",
          "iopub.status.idle": "2024-05-26T23:48:44.421561Z",
          "shell.execute_reply.started": "2024-05-26T23:48:44.400617Z",
          "shell.execute_reply": "2024-05-26T23:48:44.420604Z"
        },
        "trusted": true,
        "id": "-K1mMVMpGpwZ"
      },
      "execution_count": null,
      "outputs": []
    },
    {
      "cell_type": "code",
      "source": [
        "from sklearn.preprocessing import OrdinalEncoder, OneHotEncoder, StandardScaler\n",
        "# Initialize StandardScaler"
      ],
      "metadata": {
        "execution": {
          "iopub.status.busy": "2024-05-26T23:48:45.766217Z",
          "iopub.execute_input": "2024-05-26T23:48:45.766599Z",
          "iopub.status.idle": "2024-05-26T23:48:45.771307Z",
          "shell.execute_reply.started": "2024-05-26T23:48:45.76657Z",
          "shell.execute_reply": "2024-05-26T23:48:45.770161Z"
        },
        "trusted": true,
        "id": "pCUmL1o4GpwZ"
      },
      "execution_count": null,
      "outputs": []
    },
    {
      "cell_type": "code",
      "source": [
        "\n",
        "# Splitting into training and test sets\n",
        "X_train, X_test, y_train, y_test = train_test_split(X, y, test_size=0.2, random_state=42)\n",
        "\n",
        "# Define the feature categories\n",
        "binary_cols = ['Fever', 'Cough', 'Fatigue', 'Difficulty Breathing']\n",
        "categorical_cols = ['Blood Pressure', 'Cholesterol Level', 'Gender']\n",
        "numerical_cols = ['Age']\n",
        "\n",
        "# Define transformers\n",
        "ordinal_transformer = OrdinalEncoder(categories=[['No', 'Yes']] * len(binary_cols))\n",
        "onehot_transformer = OneHotEncoder(drop='first', sparse=False)\n",
        "scaler = StandardScaler()\n",
        "\n",
        "# Create preprocessing pipeline\n",
        "preprocessor = ColumnTransformer(\n",
        "    transformers=[\n",
        "        ('binary', ordinal_transformer, binary_cols),\n",
        "        ('categorical', onehot_transformer, categorical_cols),\n",
        "        ('scaler', scaler, numerical_cols)\n",
        "    ]\n",
        ")\n"
      ],
      "metadata": {
        "execution": {
          "iopub.status.busy": "2024-05-26T23:48:47.094521Z",
          "iopub.execute_input": "2024-05-26T23:48:47.095462Z",
          "iopub.status.idle": "2024-05-26T23:48:47.104412Z",
          "shell.execute_reply.started": "2024-05-26T23:48:47.095426Z",
          "shell.execute_reply": "2024-05-26T23:48:47.103258Z"
        },
        "trusted": true,
        "id": "-5ivHMdoGpwZ"
      },
      "execution_count": null,
      "outputs": []
    },
    {
      "cell_type": "code",
      "source": [
        "onehot_encoder = OneHotEncoder(sparse=False)"
      ],
      "metadata": {
        "execution": {
          "iopub.status.busy": "2024-05-26T23:49:06.738621Z",
          "iopub.execute_input": "2024-05-26T23:49:06.739023Z",
          "iopub.status.idle": "2024-05-26T23:49:06.743558Z",
          "shell.execute_reply.started": "2024-05-26T23:49:06.73899Z",
          "shell.execute_reply": "2024-05-26T23:49:06.742487Z"
        },
        "trusted": true,
        "id": "ko4NBFNZGpwa"
      },
      "execution_count": null,
      "outputs": []
    },
    {
      "cell_type": "code",
      "source": [
        "X_train_transformed = preprocessor.fit_transform(X_train)\n",
        "x_test_transformed = preprocessor.transform(X_test)"
      ],
      "metadata": {
        "execution": {
          "iopub.status.busy": "2024-05-26T23:50:39.53254Z",
          "iopub.execute_input": "2024-05-26T23:50:39.532917Z",
          "iopub.status.idle": "2024-05-26T23:50:39.555868Z",
          "shell.execute_reply.started": "2024-05-26T23:50:39.532889Z",
          "shell.execute_reply": "2024-05-26T23:50:39.55466Z"
        },
        "trusted": true,
        "id": "xJPE8IyZGpwa"
      },
      "execution_count": null,
      "outputs": []
    },
    {
      "cell_type": "code",
      "source": [
        "y_train_reshaped = np.array(y_train).reshape(-1, 1)\n",
        "y_test_reshaped = np.array(y_test).reshape(-1, 1)\n",
        "\n",
        "# Fit and transform the training data\n",
        "y_train_encoded = onehot_encoder.fit_transform(y_train_reshaped)\n",
        "\n",
        "# Transform the test data\n",
        "y_test_encoded = onehot_encoder.transform(y_test_reshaped)"
      ],
      "metadata": {
        "execution": {
          "iopub.status.busy": "2024-05-26T23:49:08.215135Z",
          "iopub.execute_input": "2024-05-26T23:49:08.215523Z",
          "iopub.status.idle": "2024-05-26T23:49:08.223485Z",
          "shell.execute_reply.started": "2024-05-26T23:49:08.215494Z",
          "shell.execute_reply": "2024-05-26T23:49:08.222396Z"
        },
        "trusted": true,
        "id": "0pKA-N_lGpwa"
      },
      "execution_count": null,
      "outputs": []
    },
    {
      "cell_type": "code",
      "source": [
        "X = df.drop(['Outcome Variable'], axis= 1)\n",
        "y = df['Outcome Variable']"
      ],
      "metadata": {
        "execution": {
          "iopub.status.busy": "2024-05-26T23:49:10.329918Z",
          "iopub.execute_input": "2024-05-26T23:49:10.330697Z",
          "iopub.status.idle": "2024-05-26T23:49:10.33614Z",
          "shell.execute_reply.started": "2024-05-26T23:49:10.330664Z",
          "shell.execute_reply": "2024-05-26T23:49:10.335021Z"
        },
        "trusted": true,
        "id": "EpJ1IYtTGpwa"
      },
      "execution_count": null,
      "outputs": []
    },
    {
      "cell_type": "code",
      "source": [
        "X_train, X_test, y_train, y_test = train_test_split(X,y,test_size=0.2,random_state=42,stratify=y)"
      ],
      "metadata": {
        "execution": {
          "iopub.status.busy": "2024-05-26T23:49:12.544982Z",
          "iopub.execute_input": "2024-05-26T23:49:12.545938Z",
          "iopub.status.idle": "2024-05-26T23:49:12.554069Z",
          "shell.execute_reply.started": "2024-05-26T23:49:12.545902Z",
          "shell.execute_reply": "2024-05-26T23:49:12.553034Z"
        },
        "trusted": true,
        "id": "8gNoMOX4Gpwb"
      },
      "execution_count": null,
      "outputs": []
    },
    {
      "cell_type": "code",
      "source": [
        "def compare_algorithms(X_train, y_train, algorithms, cv=5, scoring='accuracy'):\n",
        "    results = {}\n",
        "\n",
        "    for name, algorithm in algorithms.items():\n",
        "        # Perform cross-validation\n",
        "        scores = cross_val_score(algorithm, X_train, y_train, cv=cv, scoring=scoring)\n",
        "\n",
        "        # Store the mean and standard deviation of the scores\n",
        "        results[name] = {\n",
        "            'mean_accuracy': np.mean(scores),\n",
        "            'std_accuracy': np.std(scores)\n",
        "        }\n",
        "\n",
        "        # Print the results for each algorithm\n",
        "        print(f\"{name} - Mean Accuracy: {results[name]['mean_accuracy']:.4f} | Std Accuracy: {results[name]['std_accuracy']:.4f}\")\n",
        "\n",
        "    return results"
      ],
      "metadata": {
        "execution": {
          "iopub.status.busy": "2024-05-26T23:49:14.218152Z",
          "iopub.execute_input": "2024-05-26T23:49:14.218536Z",
          "iopub.status.idle": "2024-05-26T23:49:14.22502Z",
          "shell.execute_reply.started": "2024-05-26T23:49:14.21851Z",
          "shell.execute_reply": "2024-05-26T23:49:14.223868Z"
        },
        "trusted": true,
        "id": "oXdmmwdcGpwb"
      },
      "execution_count": null,
      "outputs": []
    },
    {
      "cell_type": "code",
      "source": [
        "def plot_accuracies(accuracies):\n",
        "    \"\"\"\n",
        "    Plots the mean accuracies and their standard deviations for different algorithms.\n",
        "\n",
        "    Parameters:\n",
        "    accuracies (dict): A dictionary where keys are algorithm names and values are dictionaries\n",
        "                       containing 'mean_accuracy' and 'std_accuracy'.\n",
        "    \"\"\"\n",
        "    # Extracting algorithm names, mean accuracies, and standard deviations\n",
        "    names = list(accuracies.keys())\n",
        "    mean_accuracies = [accuracies[name]['mean_accuracy'] for name in names]\n",
        "    std_accuracies = [accuracies[name]['std_accuracy'] for name in names]\n",
        "\n",
        "    # Creating the bar plot\n",
        "    plt.figure(figsize=(10, 6))\n",
        "    plt.bar(names, mean_accuracies, yerr=std_accuracies, capsize=5, color='skyblue', alpha=0.7)\n",
        "\n",
        "    # Adding plot details\n",
        "    plt.xlabel('Algorithms')\n",
        "    plt.ylabel('Mean Accuracy')\n",
        "    plt.title('Algorithm Comparison: Mean Accuracy with Standard Deviation')\n",
        "    plt.ylim(0, 1)  # Accuracy ranges from 0 to 1\n",
        "    plt.xticks(rotation=45)\n",
        "    plt.grid(axis='y', linestyle='--', alpha=0.7)\n",
        "\n",
        "    # Display the plot\n",
        "    plt.tight_layout()\n",
        "    plt.show()"
      ],
      "metadata": {
        "execution": {
          "iopub.status.busy": "2024-05-26T18:25:21.790636Z",
          "iopub.execute_input": "2024-05-26T18:25:21.791038Z",
          "iopub.status.idle": "2024-05-26T18:25:21.800644Z",
          "shell.execute_reply.started": "2024-05-26T18:25:21.791009Z",
          "shell.execute_reply": "2024-05-26T18:25:21.799564Z"
        },
        "trusted": true,
        "id": "3oyKXeykGpwb"
      },
      "execution_count": null,
      "outputs": []
    },
    {
      "cell_type": "code",
      "source": [
        "df\n",
        "X_test"
      ],
      "metadata": {
        "execution": {
          "iopub.status.busy": "2024-05-26T23:49:16.416753Z",
          "iopub.execute_input": "2024-05-26T23:49:16.417534Z",
          "iopub.status.idle": "2024-05-26T23:49:16.438094Z",
          "shell.execute_reply.started": "2024-05-26T23:49:16.4175Z",
          "shell.execute_reply": "2024-05-26T23:49:16.437029Z"
        },
        "trusted": true,
        "id": "8p_MBEphGpwb"
      },
      "execution_count": null,
      "outputs": []
    },
    {
      "cell_type": "code",
      "source": [],
      "metadata": {
        "id": "WM69WdtlGpwb"
      },
      "execution_count": null,
      "outputs": []
    },
    {
      "cell_type": "code",
      "source": [
        "# importing libraries\n",
        "from sklearn.linear_model import LogisticRegression\n",
        "lreg = LogisticRegression()\n",
        "lreg.fit(X_train_transformed,y_train)"
      ],
      "metadata": {
        "execution": {
          "iopub.status.busy": "2024-05-26T23:50:44.274591Z",
          "iopub.execute_input": "2024-05-26T23:50:44.275356Z",
          "iopub.status.idle": "2024-05-26T23:50:44.289179Z",
          "shell.execute_reply.started": "2024-05-26T23:50:44.275321Z",
          "shell.execute_reply": "2024-05-26T23:50:44.288022Z"
        },
        "trusted": true,
        "id": "2riDuzpjGpwc"
      },
      "execution_count": null,
      "outputs": []
    },
    {
      "cell_type": "code",
      "source": [
        "from sklearn.metrics import accuracy_score\n",
        "# predicting values and checking accuracy\n",
        "lpred = lreg.predict(x_test_transformed)\n",
        "accuracy_score(lpred , y_test)"
      ],
      "metadata": {
        "execution": {
          "iopub.status.busy": "2024-05-26T23:50:45.523726Z",
          "iopub.execute_input": "2024-05-26T23:50:45.524544Z",
          "iopub.status.idle": "2024-05-26T23:50:45.533728Z",
          "shell.execute_reply.started": "2024-05-26T23:50:45.52451Z",
          "shell.execute_reply": "2024-05-26T23:50:45.532736Z"
        },
        "trusted": true,
        "id": "JwdMQb4pGpwc"
      },
      "execution_count": null,
      "outputs": []
    },
    {
      "cell_type": "code",
      "source": [
        "#importing libraries\n",
        "from sklearn.neighbors import KNeighborsClassifier"
      ],
      "metadata": {
        "execution": {
          "iopub.status.busy": "2024-05-26T23:50:47.485145Z",
          "iopub.execute_input": "2024-05-26T23:50:47.48589Z",
          "iopub.status.idle": "2024-05-26T23:50:47.490014Z",
          "shell.execute_reply.started": "2024-05-26T23:50:47.48586Z",
          "shell.execute_reply": "2024-05-26T23:50:47.488872Z"
        },
        "trusted": true,
        "id": "BJjhnvz8Gpwc"
      },
      "execution_count": null,
      "outputs": []
    },
    {
      "cell_type": "code",
      "source": [
        "#implementing KNN\n",
        "knn = KNeighborsClassifier()\n",
        "knn.fit(X_train_transformed,y_train)"
      ],
      "metadata": {
        "execution": {
          "iopub.status.busy": "2024-05-26T23:50:54.980736Z",
          "iopub.execute_input": "2024-05-26T23:50:54.981164Z",
          "iopub.status.idle": "2024-05-26T23:50:54.990838Z",
          "shell.execute_reply.started": "2024-05-26T23:50:54.981132Z",
          "shell.execute_reply": "2024-05-26T23:50:54.989795Z"
        },
        "trusted": true,
        "id": "jdzowdjrGpwc"
      },
      "execution_count": null,
      "outputs": []
    },
    {
      "cell_type": "code",
      "source": [
        "#predicting values and testing accuracy\n",
        "kpred = knn.predict(x_test_transformed)\n",
        "accuracy_score(kpred,y_test)"
      ],
      "metadata": {
        "execution": {
          "iopub.status.busy": "2024-05-26T23:50:56.530714Z",
          "iopub.execute_input": "2024-05-26T23:50:56.531129Z",
          "iopub.status.idle": "2024-05-26T23:50:56.546138Z",
          "shell.execute_reply.started": "2024-05-26T23:50:56.531098Z",
          "shell.execute_reply": "2024-05-26T23:50:56.545095Z"
        },
        "trusted": true,
        "id": "_MNUBqFzGpwc"
      },
      "execution_count": null,
      "outputs": []
    },
    {
      "cell_type": "code",
      "source": [
        "from sklearn.compose import ColumnTransformer\n",
        "from sklearn.pipeline import Pipeline\n",
        "from sklearn.impute import SimpleImputer\n",
        "from sklearn.preprocessing import OneHotEncoder\n",
        "\n",
        "# Preprocessing for numerical data\n",
        "numerical_transformer = SimpleImputer(strategy='constant')\n",
        "\n",
        "# Preprocessing for categorical data\n",
        "categorical_transformer = Pipeline(steps=[\n",
        "    ('imputer', SimpleImputer(strategy='most_frequent')),\n",
        "    ('onehot', OneHotEncoder(handle_unknown='ignore'))\n",
        "])\n",
        "\n",
        "# Bundle preprocessing for numerical and categorical data\n",
        "preprocessor = ColumnTransformer(\n",
        "    transformers=[\n",
        "        ('num', numerical_transformer, numerical_cols),\n",
        "        ('cat', categorical_transformer, categorical_cols)\n",
        "    ])"
      ],
      "metadata": {
        "execution": {
          "iopub.status.busy": "2024-05-26T23:50:58.138881Z",
          "iopub.execute_input": "2024-05-26T23:50:58.139779Z",
          "iopub.status.idle": "2024-05-26T23:50:58.149557Z",
          "shell.execute_reply.started": "2024-05-26T23:50:58.139745Z",
          "shell.execute_reply": "2024-05-26T23:50:58.148625Z"
        },
        "trusted": true,
        "id": "ybqsp_v4Gpwc"
      },
      "execution_count": null,
      "outputs": []
    },
    {
      "cell_type": "code",
      "source": [
        "# Define the classifier model\n",
        "classifier = RandomForestClassifier(n_estimators=100, random_state=0)\n",
        "\n",
        "# Create the final pipeline\n",
        "pipeline = Pipeline(steps=[\n",
        "    ('preprocessor', preprocessor),\n",
        "    ('classifier', classifier)\n",
        "])\n",
        "\n",
        "# Fit the pipeline on training data\n",
        "pipeline.fit(X_train, y_train)\n",
        "\n",
        "# Evaluate the pipeline on test data\n",
        "accuracy = pipeline.score(X_test, y_test)\n",
        "print(f'Model accuracy: {accuracy:.2f}')"
      ],
      "metadata": {
        "execution": {
          "iopub.status.busy": "2024-05-26T23:51:00.061002Z",
          "iopub.execute_input": "2024-05-26T23:51:00.061923Z",
          "iopub.status.idle": "2024-05-26T23:51:00.265251Z",
          "shell.execute_reply.started": "2024-05-26T23:51:00.061889Z",
          "shell.execute_reply": "2024-05-26T23:51:00.264117Z"
        },
        "trusted": true,
        "id": "otfhvc2XGpwd"
      },
      "execution_count": null,
      "outputs": []
    },
    {
      "cell_type": "code",
      "source": [
        "from sklearn.model_selection import cross_val_score\n",
        "\n",
        "# Define the algorithms\n",
        "algorithms = {\n",
        "    'Logistic Regression': LogisticRegression(),\n",
        "    'K-Nearest Neighbors': KNeighborsClassifier(),\n",
        "    'Random Forest': RandomForestClassifier(n_estimators=100, random_state=0)\n",
        "}\n",
        "\n",
        "# Compare the algorithms\n",
        "results = compare_algorithms(preprocessor.fit_transform(X_train), y_train, algorithms)"
      ],
      "metadata": {
        "execution": {
          "iopub.status.busy": "2024-05-26T23:51:42.87945Z",
          "iopub.execute_input": "2024-05-26T23:51:42.880228Z",
          "iopub.status.idle": "2024-05-26T23:51:43.890693Z",
          "shell.execute_reply.started": "2024-05-26T23:51:42.880193Z",
          "shell.execute_reply": "2024-05-26T23:51:43.88963Z"
        },
        "trusted": true,
        "id": "OxVzPVMcGpwd"
      },
      "execution_count": null,
      "outputs": []
    },
    {
      "cell_type": "markdown",
      "source": [
        "# **Conclusion**\n",
        "\n",
        "  Random Forest - Mean Accuracy: 0.6526 | Std Accuracy: 0.0472</br>\n",
        "  Logistic Regression - Mean Accuracy: 0.6486 | Std Accuracy: 0.0857</br>\n",
        "  K-Nearest Neighbors - Mean Accuracy: 0.6021 | Std Accuracy: 0.0316"
      ],
      "metadata": {
        "id": "eudSfmk9Gyeb"
      }
    }
  ]
}