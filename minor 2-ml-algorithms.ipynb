{
 "cells": [
  {
   "cell_type": "code",
   "execution_count": 2,
   "id": "e91296c2",
   "metadata": {
    "execution": {
     "iopub.execute_input": "2022-11-24T18:42:15.091920Z",
     "iopub.status.busy": "2022-11-24T18:42:15.091594Z",
     "iopub.status.idle": "2022-11-24T18:42:16.745680Z",
     "shell.execute_reply": "2022-11-24T18:42:16.744662Z"
    },
    "papermill": {
     "duration": 1.67548,
     "end_time": "2022-11-24T18:42:16.748077",
     "exception": false,
     "start_time": "2022-11-24T18:42:15.072597",
     "status": "completed"
    },
    "tags": []
   },
   "outputs": [],
   "source": [
    "import os\n",
    "import pickle\n",
    "import random\n",
    "import re\n",
    "import string\n",
    "import warnings\n",
    "\n",
    "import category_encoders as ce\n",
    "import matplotlib.pyplot as plt\n",
    "import numpy as np\n",
    "import pandas as pd\n",
    "import seaborn as sns\n",
    "import nltk\n",
    "from nltk.corpus import stopwords\n",
    "from nltk.stem.snowball import SnowballStemmer\n",
    "from nltk.tokenize import word_tokenize\n",
    "from scipy import stats\n",
    "from sklearn import preprocessing, utils\n",
    "from sklearn.calibration import CalibratedClassifierCV\n",
    "from sklearn.ensemble import RandomForestClassifier, RandomForestRegressor\n",
    "from sklearn.feature_extraction.text import TfidfVectorizer\n",
    "from sklearn.metrics import accuracy_score\n",
    "from sklearn.metrics import mean_squared_error as mse\n",
    "from sklearn.metrics import f1_score\n",
    "from sklearn.metrics import r2_score\n",
    "from sklearn.model_selection import train_test_split\n",
    "from sklearn.neighbors import KNeighborsClassifier\n",
    "from sklearn.linear_model import LogisticRegression\n",
    "from sklearn.model_selection import GridSearchCV\n",
    "from xgboost import XGBClassifier\n",
    "from wordcloud import WordCloud\n",
    "from xgboost import XGBRegressor"
   ]
  },
  {
   "cell_type": "code",
   "execution_count": 3,
   "id": "f37acad1",
   "metadata": {
    "execution": {
     "iopub.execute_input": "2022-11-24T18:42:16.858232Z",
     "iopub.status.busy": "2022-11-24T18:42:16.857924Z",
     "iopub.status.idle": "2022-11-24T18:42:17.165369Z",
     "shell.execute_reply": "2022-11-24T18:42:17.164244Z"
    },
    "papermill": {
     "duration": 0.32949,
     "end_time": "2022-11-24T18:42:17.168261",
     "exception": false,
     "start_time": "2022-11-24T18:42:16.838771",
     "status": "completed"
    },
    "tags": []
   },
   "outputs": [],
   "source": [
    "data = pd.read_csv('../input/google-quest-challenge-files/data/train.csv')\n",
    "# data = pd.read_csv('./data/train.csv')\n",
    "train_cols = ['qa_id', 'question_title', 'question_body', 'question_user_name',\n",
    "       'question_user_page', 'answer', 'answer_user_name', 'answer_user_page',\n",
    "       'url', 'category', 'host']\n",
    "X = data[train_cols]\n",
    "y = data.drop(columns=train_cols)"
   ]
  },
  {
   "cell_type": "code",
   "execution_count": 4,
   "id": "f1c945a2",
   "metadata": {
    "execution": {
     "iopub.execute_input": "2022-11-24T18:42:17.206422Z",
     "iopub.status.busy": "2022-11-24T18:42:17.206118Z",
     "iopub.status.idle": "2022-11-24T18:42:17.224520Z",
     "shell.execute_reply": "2022-11-24T18:42:17.223332Z"
    },
    "papermill": {
     "duration": 0.040165,
     "end_time": "2022-11-24T18:42:17.227283",
     "exception": false,
     "start_time": "2022-11-24T18:42:17.187118",
     "status": "completed"
    },
    "tags": []
   },
   "outputs": [
    {
     "data": {
      "text/html": [
       "<div>\n",
       "<style scoped>\n",
       "    .dataframe tbody tr th:only-of-type {\n",
       "        vertical-align: middle;\n",
       "    }\n",
       "\n",
       "    .dataframe tbody tr th {\n",
       "        vertical-align: top;\n",
       "    }\n",
       "\n",
       "    .dataframe thead th {\n",
       "        text-align: right;\n",
       "    }\n",
       "</style>\n",
       "<table border=\"1\" class=\"dataframe\">\n",
       "  <thead>\n",
       "    <tr style=\"text-align: right;\">\n",
       "      <th></th>\n",
       "      <th>qa_id</th>\n",
       "      <th>question_title</th>\n",
       "      <th>question_body</th>\n",
       "      <th>question_user_name</th>\n",
       "      <th>question_user_page</th>\n",
       "      <th>answer</th>\n",
       "      <th>answer_user_name</th>\n",
       "      <th>answer_user_page</th>\n",
       "      <th>url</th>\n",
       "      <th>category</th>\n",
       "      <th>host</th>\n",
       "    </tr>\n",
       "  </thead>\n",
       "  <tbody>\n",
       "    <tr>\n",
       "      <th>0</th>\n",
       "      <td>0</td>\n",
       "      <td>What am I losing when using extension tubes in...</td>\n",
       "      <td>After playing around with macro photography on...</td>\n",
       "      <td>ysap</td>\n",
       "      <td>https://photo.stackexchange.com/users/1024</td>\n",
       "      <td>I just got extension tubes, so here's the skin...</td>\n",
       "      <td>rfusca</td>\n",
       "      <td>https://photo.stackexchange.com/users/1917</td>\n",
       "      <td>http://photo.stackexchange.com/questions/9169/...</td>\n",
       "      <td>LIFE_ARTS</td>\n",
       "      <td>photo.stackexchange.com</td>\n",
       "    </tr>\n",
       "    <tr>\n",
       "      <th>1</th>\n",
       "      <td>1</td>\n",
       "      <td>What is the distinction between a city and a s...</td>\n",
       "      <td>I am trying to understand what kinds of places...</td>\n",
       "      <td>russellpierce</td>\n",
       "      <td>https://rpg.stackexchange.com/users/8774</td>\n",
       "      <td>It might be helpful to look into the definitio...</td>\n",
       "      <td>Erik Schmidt</td>\n",
       "      <td>https://rpg.stackexchange.com/users/1871</td>\n",
       "      <td>http://rpg.stackexchange.com/questions/47820/w...</td>\n",
       "      <td>CULTURE</td>\n",
       "      <td>rpg.stackexchange.com</td>\n",
       "    </tr>\n",
       "  </tbody>\n",
       "</table>\n",
       "</div>"
      ],
      "text/plain": [
       "   qa_id                                     question_title  \\\n",
       "0      0  What am I losing when using extension tubes in...   \n",
       "1      1  What is the distinction between a city and a s...   \n",
       "\n",
       "                                       question_body question_user_name  \\\n",
       "0  After playing around with macro photography on...               ysap   \n",
       "1  I am trying to understand what kinds of places...      russellpierce   \n",
       "\n",
       "                           question_user_page  \\\n",
       "0  https://photo.stackexchange.com/users/1024   \n",
       "1    https://rpg.stackexchange.com/users/8774   \n",
       "\n",
       "                                              answer answer_user_name  \\\n",
       "0  I just got extension tubes, so here's the skin...           rfusca   \n",
       "1  It might be helpful to look into the definitio...     Erik Schmidt   \n",
       "\n",
       "                             answer_user_page  \\\n",
       "0  https://photo.stackexchange.com/users/1917   \n",
       "1    https://rpg.stackexchange.com/users/1871   \n",
       "\n",
       "                                                 url   category  \\\n",
       "0  http://photo.stackexchange.com/questions/9169/...  LIFE_ARTS   \n",
       "1  http://rpg.stackexchange.com/questions/47820/w...    CULTURE   \n",
       "\n",
       "                      host  \n",
       "0  photo.stackexchange.com  \n",
       "1    rpg.stackexchange.com  "
      ]
     },
     "execution_count": 4,
     "metadata": {},
     "output_type": "execute_result"
    }
   ],
   "source": [
    "X.head(2)"
   ]
  },
  {
   "cell_type": "code",
   "execution_count": 5,
   "id": "d71a7ebd",
   "metadata": {
    "execution": {
     "iopub.execute_input": "2022-11-24T18:42:17.264668Z",
     "iopub.status.busy": "2022-11-24T18:42:17.264360Z",
     "iopub.status.idle": "2022-11-24T18:42:17.287896Z",
     "shell.execute_reply": "2022-11-24T18:42:17.286659Z"
    },
    "papermill": {
     "duration": 0.044993,
     "end_time": "2022-11-24T18:42:17.290512",
     "exception": false,
     "start_time": "2022-11-24T18:42:17.245519",
     "status": "completed"
    },
    "tags": []
   },
   "outputs": [
    {
     "data": {
      "text/html": [
       "<div>\n",
       "<style scoped>\n",
       "    .dataframe tbody tr th:only-of-type {\n",
       "        vertical-align: middle;\n",
       "    }\n",
       "\n",
       "    .dataframe tbody tr th {\n",
       "        vertical-align: top;\n",
       "    }\n",
       "\n",
       "    .dataframe thead th {\n",
       "        text-align: right;\n",
       "    }\n",
       "</style>\n",
       "<table border=\"1\" class=\"dataframe\">\n",
       "  <thead>\n",
       "    <tr style=\"text-align: right;\">\n",
       "      <th></th>\n",
       "      <th>question_asker_intent_understanding</th>\n",
       "      <th>question_body_critical</th>\n",
       "      <th>question_conversational</th>\n",
       "      <th>question_expect_short_answer</th>\n",
       "      <th>question_fact_seeking</th>\n",
       "      <th>question_has_commonly_accepted_answer</th>\n",
       "      <th>question_interestingness_others</th>\n",
       "      <th>question_interestingness_self</th>\n",
       "      <th>question_multi_intent</th>\n",
       "      <th>question_not_really_a_question</th>\n",
       "      <th>...</th>\n",
       "      <th>question_well_written</th>\n",
       "      <th>answer_helpful</th>\n",
       "      <th>answer_level_of_information</th>\n",
       "      <th>answer_plausible</th>\n",
       "      <th>answer_relevance</th>\n",
       "      <th>answer_satisfaction</th>\n",
       "      <th>answer_type_instructions</th>\n",
       "      <th>answer_type_procedure</th>\n",
       "      <th>answer_type_reason_explanation</th>\n",
       "      <th>answer_well_written</th>\n",
       "    </tr>\n",
       "  </thead>\n",
       "  <tbody>\n",
       "    <tr>\n",
       "      <th>0</th>\n",
       "      <td>1.0</td>\n",
       "      <td>0.333333</td>\n",
       "      <td>0.0</td>\n",
       "      <td>0.0</td>\n",
       "      <td>0.0</td>\n",
       "      <td>0.0</td>\n",
       "      <td>1.000000</td>\n",
       "      <td>1.000000</td>\n",
       "      <td>0.000000</td>\n",
       "      <td>0.0</td>\n",
       "      <td>...</td>\n",
       "      <td>1.000000</td>\n",
       "      <td>1.000000</td>\n",
       "      <td>0.666667</td>\n",
       "      <td>1.000000</td>\n",
       "      <td>1.000000</td>\n",
       "      <td>0.800000</td>\n",
       "      <td>1.0</td>\n",
       "      <td>0.0</td>\n",
       "      <td>0.000000</td>\n",
       "      <td>1.000000</td>\n",
       "    </tr>\n",
       "    <tr>\n",
       "      <th>1</th>\n",
       "      <td>1.0</td>\n",
       "      <td>1.000000</td>\n",
       "      <td>0.0</td>\n",
       "      <td>0.5</td>\n",
       "      <td>1.0</td>\n",
       "      <td>1.0</td>\n",
       "      <td>0.444444</td>\n",
       "      <td>0.444444</td>\n",
       "      <td>0.666667</td>\n",
       "      <td>0.0</td>\n",
       "      <td>...</td>\n",
       "      <td>0.888889</td>\n",
       "      <td>0.888889</td>\n",
       "      <td>0.555556</td>\n",
       "      <td>0.888889</td>\n",
       "      <td>0.888889</td>\n",
       "      <td>0.666667</td>\n",
       "      <td>0.0</td>\n",
       "      <td>0.0</td>\n",
       "      <td>0.666667</td>\n",
       "      <td>0.888889</td>\n",
       "    </tr>\n",
       "  </tbody>\n",
       "</table>\n",
       "<p>2 rows × 30 columns</p>\n",
       "</div>"
      ],
      "text/plain": [
       "   question_asker_intent_understanding  question_body_critical  \\\n",
       "0                                  1.0                0.333333   \n",
       "1                                  1.0                1.000000   \n",
       "\n",
       "   question_conversational  question_expect_short_answer  \\\n",
       "0                      0.0                           0.0   \n",
       "1                      0.0                           0.5   \n",
       "\n",
       "   question_fact_seeking  question_has_commonly_accepted_answer  \\\n",
       "0                    0.0                                    0.0   \n",
       "1                    1.0                                    1.0   \n",
       "\n",
       "   question_interestingness_others  question_interestingness_self  \\\n",
       "0                         1.000000                       1.000000   \n",
       "1                         0.444444                       0.444444   \n",
       "\n",
       "   question_multi_intent  question_not_really_a_question  ...  \\\n",
       "0               0.000000                             0.0  ...   \n",
       "1               0.666667                             0.0  ...   \n",
       "\n",
       "   question_well_written  answer_helpful  answer_level_of_information  \\\n",
       "0               1.000000        1.000000                     0.666667   \n",
       "1               0.888889        0.888889                     0.555556   \n",
       "\n",
       "   answer_plausible  answer_relevance  answer_satisfaction  \\\n",
       "0          1.000000          1.000000             0.800000   \n",
       "1          0.888889          0.888889             0.666667   \n",
       "\n",
       "   answer_type_instructions  answer_type_procedure  \\\n",
       "0                       1.0                    0.0   \n",
       "1                       0.0                    0.0   \n",
       "\n",
       "   answer_type_reason_explanation  answer_well_written  \n",
       "0                        0.000000             1.000000  \n",
       "1                        0.666667             0.888889  \n",
       "\n",
       "[2 rows x 30 columns]"
      ]
     },
     "execution_count": 5,
     "metadata": {},
     "output_type": "execute_result"
    }
   ],
   "source": [
    "y.head(2)"
   ]
  },
  {
   "cell_type": "code",
   "execution_count": 6,
   "id": "b8bb067f",
   "metadata": {
    "execution": {
     "iopub.execute_input": "2022-11-24T18:42:17.331022Z",
     "iopub.status.busy": "2022-11-24T18:42:17.330722Z",
     "iopub.status.idle": "2022-11-24T18:42:17.339320Z",
     "shell.execute_reply": "2022-11-24T18:42:17.338347Z"
    },
    "papermill": {
     "duration": 0.03066,
     "end_time": "2022-11-24T18:42:17.341463",
     "exception": false,
     "start_time": "2022-11-24T18:42:17.310803",
     "status": "completed"
    },
    "tags": []
   },
   "outputs": [
    {
     "name": "stdout",
     "output_type": "stream",
     "text": [
      " Aspects related to question : 21 - ['question_asker_intent_understanding', 'question_body_critical', 'question_conversational', 'question_expect_short_answer', 'question_fact_seeking', 'question_has_commonly_accepted_answer', 'question_interestingness_others', 'question_interestingness_self', 'question_multi_intent', 'question_not_really_a_question', 'question_opinion_seeking', 'question_type_choice', 'question_type_compare', 'question_type_consequence', 'question_type_definition', 'question_type_entity', 'question_type_instructions', 'question_type_procedure', 'question_type_reason_explanation', 'question_type_spelling', 'question_well_written']\n",
      "\n",
      " Aspects related to answer : 9 - ['answer_helpful', 'answer_level_of_information', 'answer_plausible', 'answer_relevance', 'answer_satisfaction', 'answer_type_instructions', 'answer_type_procedure', 'answer_type_reason_explanation', 'answer_well_written']\n"
     ]
    }
   ],
   "source": [
    "question_related_aspects = []\n",
    "answer_related_aspects = []\n",
    "\n",
    "for col in y.columns:\n",
    "    if 'question' in col:\n",
    "        question_related_aspects.append(col)\n",
    "    else:\n",
    "        answer_related_aspects.append(col)\n",
    "\n",
    "print(f\" Aspects related to question : {len(question_related_aspects)} - {question_related_aspects}\")\n",
    "print()\n",
    "print(f\" Aspects related to answer : {len(answer_related_aspects)} - {answer_related_aspects}\")"
   ]
  },
  {
   "cell_type": "code",
   "execution_count": 7,
   "id": "7f9c9010",
   "metadata": {
    "execution": {
     "iopub.execute_input": "2022-11-24T18:42:17.415595Z",
     "iopub.status.busy": "2022-11-24T18:42:17.414731Z",
     "iopub.status.idle": "2022-11-24T18:42:17.427462Z",
     "shell.execute_reply": "2022-11-24T18:42:17.426207Z"
    },
    "papermill": {
     "duration": 0.03377,
     "end_time": "2022-11-24T18:42:17.429606",
     "exception": false,
     "start_time": "2022-11-24T18:42:17.395836",
     "status": "completed"
    },
    "tags": []
   },
   "outputs": [
    {
     "name": "stdout",
     "output_type": "stream",
     "text": [
      "X_train Shape :  (4863, 11)\n",
      "X_test Shape :  (1216, 11)\n",
      "y_train Shape :  (4863, 30)\n",
      "X_test Shape :  (1216, 30)\n"
     ]
    }
   ],
   "source": [
    "X_train, X_test, y_train, y_test = train_test_split(X, y, test_size=0.20, random_state=42)\n",
    "\n",
    "print(\"X_train Shape : \", X_train.shape)\n",
    "print(\"X_test Shape : \", X_test.shape)\n",
    "print(\"y_train Shape : \", y_train.shape)\n",
    "print(\"X_test Shape : \", y_test.shape)\n"
   ]
  },
  {
   "cell_type": "code",
   "execution_count": 8,
   "id": "7a920009",
   "metadata": {
    "execution": {
     "iopub.execute_input": "2022-11-24T18:42:17.550156Z",
     "iopub.status.busy": "2022-11-24T18:42:17.549077Z",
     "iopub.status.idle": "2022-11-24T18:42:17.569207Z",
     "shell.execute_reply": "2022-11-24T18:42:17.567814Z"
    },
    "hidden": true,
    "papermill": {
     "duration": 0.044452,
     "end_time": "2022-11-24T18:42:17.571781",
     "exception": false,
     "start_time": "2022-11-24T18:42:17.527329",
     "status": "completed"
    },
    "tags": []
   },
   "outputs": [
    {
     "name": "stdout",
     "output_type": "stream",
     "text": [
      "Cadinality of feature qa_id - 6079\n",
      "Cadinality of feature question_user_name - 3215\n",
      "Cadinality of feature question_user_page - 3422\n",
      "Cadinality of feature answer_user_name - 4114\n",
      "Cadinality of feature answer_user_page - 4430\n",
      "Cadinality of feature url - 3583\n",
      "Cadinality of feature category - 5\n",
      "Cadinality of feature host - 63\n"
     ]
    }
   ],
   "source": [
    "categorical_features = ['qa_id', 'question_user_name', 'question_user_page', 'answer_user_name',\n",
    "                         'answer_user_page', 'url', 'category', 'host']\n",
    "for i in categorical_features:\n",
    "    print(f'Cadinality of feature {i} - {X[i].nunique()}')"
   ]
  },
  {
   "cell_type": "code",
   "execution_count": 9,
   "id": "4b1ec4d5",
   "metadata": {
    "execution": {
     "iopub.execute_input": "2022-11-24T18:42:17.656740Z",
     "iopub.status.busy": "2022-11-24T18:42:17.655582Z",
     "iopub.status.idle": "2022-11-24T18:42:17.664646Z",
     "shell.execute_reply": "2022-11-24T18:42:17.663645Z"
    },
    "hidden": true,
    "papermill": {
     "duration": 0.033684,
     "end_time": "2022-11-24T18:42:17.666984",
     "exception": false,
     "start_time": "2022-11-24T18:42:17.633300",
     "status": "completed"
    },
    "tags": []
   },
   "outputs": [],
   "source": [
    "X_train = X_train[['question_title', 'question_body', 'answer', 'category', 'host']]\n",
    "X_test = X_test[['question_title', 'question_body', 'answer', 'category', 'host']]"
   ]
  },
  {
   "cell_type": "code",
   "execution_count": 10,
   "id": "67bd3cb8",
   "metadata": {
    "execution": {
     "iopub.execute_input": "2022-11-24T18:42:17.750995Z",
     "iopub.status.busy": "2022-11-24T18:42:17.750630Z",
     "iopub.status.idle": "2022-11-24T18:42:17.759898Z",
     "shell.execute_reply": "2022-11-24T18:42:17.758534Z"
    },
    "hidden": true,
    "papermill": {
     "duration": 0.03393,
     "end_time": "2022-11-24T18:42:17.762550",
     "exception": false,
     "start_time": "2022-11-24T18:42:17.728620",
     "status": "completed"
    },
    "tags": []
   },
   "outputs": [
    {
     "name": "stdout",
     "output_type": "stream",
     "text": [
      "Number of NULL Values in test data, category column is 4863 out if 4863. Percent of missing value: 0.0%.\n",
      "Number of NULL Values in test data, category column is 1216 out if 1216. Percent of missing value: 0.0%.\n"
     ]
    }
   ],
   "source": [
    "miss = len(X_train['category'].isnull())\n",
    "total = len(X_train['category'])\n",
    "print(f\"Number of NULL Values in test data, category column is {miss} out if {total}. Percent of missing value: {(total-miss)/total}%.\")\n",
    "\n",
    "miss = len(X_test['category'].isnull())\n",
    "total = len(X_test['category'])\n",
    "print(f\"Number of NULL Values in test data, category column is {miss} out if {total}. Percent of missing value: {(total-miss)/total}%.\")"
   ]
  },
  {
   "cell_type": "code",
   "execution_count": 11,
   "id": "d06e436f",
   "metadata": {
    "execution": {
     "iopub.execute_input": "2022-11-24T18:42:17.805184Z",
     "iopub.status.busy": "2022-11-24T18:42:17.804822Z",
     "iopub.status.idle": "2022-11-24T18:42:18.084755Z",
     "shell.execute_reply": "2022-11-24T18:42:18.083780Z"
    },
    "hidden": true,
    "papermill": {
     "duration": 0.303926,
     "end_time": "2022-11-24T18:42:18.086950",
     "exception": false,
     "start_time": "2022-11-24T18:42:17.783024",
     "status": "completed"
    },
    "tags": []
   },
   "outputs": [
    {
     "data": {
      "image/png": "[encoded data removed]",
      "text/plain": [
       "<Figure size 576x360 with 1 Axes>"
      ]
     },
     "metadata": {
      "needs_background": "light"
     },
     "output_type": "display_data"
    }
   ],
   "source": [
    "# set width of bar\n",
    "barWidth = 0.25\n",
    "fig = plt.subplots(figsize =(8, 5))\n",
    "\n",
    "# set height of bar\n",
    "train_data_category = X_train['category'].value_counts()\n",
    "# print(train_data_category)\n",
    "test_data_category = X_test['category'].value_counts()\n",
    "test_data_category = test_data_category.loc[train_data_category.index]\n",
    "# print(test_data_category)\n",
    "\n",
    "# Set position of bar on X axis\n",
    "br1 = np.arange(len(train_data_category))\n",
    "br2 = [x for x in br1]\n",
    "\n",
    "# Make the plot\n",
    "plt.bar(br1, train_data_category, color ='#FFC0CB', width = barWidth,\n",
    "\t\tedgecolor ='grey', label ='train_data')\n",
    "plt.bar(br2, test_data_category, color ='#87CEEB', width = barWidth,\n",
    "\t\tedgecolor ='grey', label ='test_data')\n",
    "\n",
    "\n",
    "# Adding Xticks\n",
    "plt.xlabel('Category', fontweight ='bold', fontsize = 15)\n",
    "plt.ylabel('Number of Observation', fontweight ='bold', fontsize = 15)\n",
    "plt.xticks([r for r in range(len(train_data_category))],\n",
    "\t\ttrain_data_category.index)\n",
    "\n",
    "plt.legend()\n",
    "plt.show()\n"
   ]
  },
  {
   "cell_type": "code",
   "execution_count": 12,
   "id": "35799b16",
   "metadata": {
    "execution": {
     "iopub.execute_input": "2022-11-24T18:42:18.166419Z",
     "iopub.status.busy": "2022-11-24T18:42:18.165442Z",
     "iopub.status.idle": "2022-11-24T18:42:18.174887Z",
     "shell.execute_reply": "2022-11-24T18:42:18.173544Z"
    },
    "hidden": true,
    "papermill": {
     "duration": 0.033437,
     "end_time": "2022-11-24T18:42:18.176954",
     "exception": false,
     "start_time": "2022-11-24T18:42:18.143517",
     "status": "completed"
    },
    "tags": []
   },
   "outputs": [
    {
     "name": "stdout",
     "output_type": "stream",
     "text": [
      "Number of NULL Values in train data, host column is 4863 out if 4863. Percent of missing value: 0.0%.\n",
      "Number of NULL Values in test data, host column is 1216 out if 1216. Percent of missing value: 0.0%.\n"
     ]
    }
   ],
   "source": [
    "miss = len(X_train['host'].isnull())\n",
    "total = len(X_train['host'])\n",
    "print(f\"Number of NULL Values in train data, host column is {miss} out if {total}. Percent of missing value: {(total-miss)/total}%.\")\n",
    "\n",
    "miss = len(X_test['host'].isnull())\n",
    "total = len(X_test['host'])\n",
    "print(f\"Number of NULL Values in test data, host column is {miss} out if {total}. Percent of missing value: {(total-miss)/total}%.\")"
   ]
  },
  {
   "cell_type": "code",
   "execution_count": 13,
   "id": "5ba7b4e0",
   "metadata": {
    "execution": {
     "iopub.execute_input": "2022-11-24T18:42:18.329833Z",
     "iopub.status.busy": "2022-11-24T18:42:18.328121Z",
     "iopub.status.idle": "2022-11-24T18:42:18.358089Z",
     "shell.execute_reply": "2022-11-24T18:42:18.356901Z"
    },
    "hidden": true,
    "papermill": {
     "duration": 0.052913,
     "end_time": "2022-11-24T18:42:18.361003",
     "exception": false,
     "start_time": "2022-11-24T18:42:18.308090",
     "status": "completed"
    },
    "tags": []
   },
   "outputs": [],
   "source": [
    "# https://stackoverflow.com/questions/19790188/expanding-english-language-contractions-in-python/47091490#47091490\n",
    "\n",
    "def decontracted(phrase):\n",
    "    phrase = re.sub(r\"(W|w)on(\\'|\\’)t \", \"will not \", phrase)\n",
    "    phrase = re.sub(r\"(C|c)an(\\'|\\’)t \", \"can not \", phrase)\n",
    "    phrase = re.sub(r\"(Y|y)(\\'|\\’)all \", \"you all \", phrase)\n",
    "    phrase = re.sub(r\"(Y|y)a(\\'|\\’)ll \", \"you all \", phrase)\n",
    "    phrase = re.sub(r\"(I|i)(\\'|\\’)m \", \"i am \", phrase)\n",
    "    phrase = re.sub(r\"(A|a)isn(\\'|\\’)t \", \"is not \", phrase)\n",
    "    phrase = re.sub(r\"n(\\'|\\’)t \", \" not \", phrase)\n",
    "    phrase = re.sub(r\"(\\'|\\’)re \", \" are \", phrase)\n",
    "    phrase = re.sub(r\"(\\'|\\’)d \", \" would \", phrase)\n",
    "    phrase = re.sub(r\"(\\'|\\’)ll \", \" will \", phrase)\n",
    "    phrase = re.sub(r\"(\\'|\\’)t \", \" not \", phrase)\n",
    "    phrase = re.sub(r\"(\\'|\\’)ve \", \" have \", phrase)\n",
    "    return phrase\n",
    "\n",
    "def clean_text(x):\n",
    "    x = str(x)\n",
    "    for punct in \"/-'\":\n",
    "        x = x.replace(punct, ' ')\n",
    "    for punct in '&':\n",
    "        x = x.replace(punct, f' {punct} ')\n",
    "    for punct in '?!.,\"#$%\\'()*+-/:;<=>@[\\\\]^_`{|}~' + '“”’':\n",
    "        x = x.replace(punct, '')\n",
    "    return x\n",
    "\n",
    "def clean_numbers(x):\n",
    "    x = re.sub('[0-9]{5,}', '12345', x)\n",
    "    x = re.sub('[0-9]{4}', '1234', x)\n",
    "    x = re.sub('[0-9]{3}', '123', x)\n",
    "    x = re.sub('[0-9]{2}', '12', x)\n",
    "    return x\n",
    "\n",
    "# https://gist.github.com/sebleier/554280\n",
    "# we are removing the words from the stop words list: 'no', 'nor', 'not'\n",
    "stopwords= ['i', 'me', 'my', 'myself', 'we', 'our', 'ours', 'ourselves', 'you', \"you're\", \"you've\",\\\n",
    "            \"you'll\", \"you'd\", 'your', 'yours', 'yourself', 'yourselves', 'he', 'him', 'his', 'himself', \\\n",
    "            'she', \"she's\", 'her', 'hers', 'herself', 'it', \"it's\", 'its', 'itself', 'they', 'them', 'their',\\\n",
    "            'theirs', 'themselves', 'what', 'which', 'who', 'whom', 'this', 'that', \"that'll\", 'these', 'those', \\\n",
    "            'am', 'is', 'are', 'was', 'were', 'be', 'been', 'being', 'have', 'has', 'had', 'having', 'do', 'does', \\\n",
    "            'did', 'doing', 'a', 'an', 'the', 'and', 'but', 'if', 'or', 'because', 'as', 'until', 'while', 'of', \\\n",
    "            'at', 'by', 'for', 'with', 'about', 'against', 'between', 'into', 'through', 'during', 'before', 'after',\\\n",
    "            'above', 'below', 'to', 'from', 'up', 'down', 'in', 'out', 'on', 'off', 'over', 'under', 'again', 'further',\\\n",
    "            'then', 'once', 'here', 'there', 'when', 'where', 'why', 'how', 'all', 'any', 'both', 'each', 'few', 'more',\\\n",
    "            'most', 'other', 'some', 'such', 'only', 'own', 'same', 'so', 'than', 'too', 'very', \\\n",
    "            's', 't', 'can', 'will', 'just', 'don', \"don't\", 'should', \"should've\", 'now', 'd', 'll', 'm', 'o', 're', \\\n",
    "            've', 'y', 'ain', 'aren', \"aren't\", 'couldn', \"couldn't\", 'didn', \"didn't\", 'doesn', \"doesn't\", 'hadn',\\\n",
    "            \"hadn't\", 'hasn', \"hasn't\", 'haven', \"haven't\", 'isn', \"isn't\", 'ma', 'mightn', \"mightn't\", 'mustn',\\\n",
    "            \"mustn't\", 'needn', \"needn't\", 'shan', \"shan't\", 'shouldn', \"shouldn't\", 'wasn', \"wasn't\", 'weren', \"weren't\", \\\n",
    "            'won', \"won't\", 'wouldn', \"wouldn't\"]\n",
    "\n",
    "\n",
    "stemmer = SnowballStemmer(\"english\")\n",
    "\n",
    "# Combining all the above stundents \n",
    "from tqdm import tqdm\n",
    "def preprocess_text(text_data):\n",
    "    preprocessed_text = []\n",
    "    # tqdm is for printing the status bar\n",
    "    for sentance in tqdm(text_data):\n",
    "        sent = decontracted(sentance)\n",
    "        sent = clean_text(sentance)\n",
    "        sent = clean_numbers(sentance)\n",
    "        sent = sent.replace('\\\\r', ' ')\n",
    "        sent = sent.replace('\\\\n', ' ')\n",
    "        sent = sent.replace('\\\\\"', ' ')\n",
    "        sent = re.sub('[^A-Za-z0-9]+', ' ', sent)\n",
    "        # https://gist.github.com/sebleier/554280\n",
    "        sent = ' '.join(stemmer.stem(e) for e in sent.split() if e.lower() not in stopwords)\n",
    "        preprocessed_text.append(sent.lower().strip())\n",
    "    return preprocessed_text\n",
    "\n",
    "\n",
    "def special_symbols(string):\n",
    "    pattern = r'[^a-zA-Z0-9\\s]'\n",
    "    matches = re.finditer(pattern, string, re.MULTILINE)\n",
    "    return len([_ for _ in matches])"
   ]
  },
  {
   "cell_type": "code",
   "execution_count": 14,
   "id": "cc500c77",
   "metadata": {
    "execution": {
     "iopub.execute_input": "2022-11-24T18:42:18.400511Z",
     "iopub.status.busy": "2022-11-24T18:42:18.399469Z",
     "iopub.status.idle": "2022-11-24T18:42:18.406387Z",
     "shell.execute_reply": "2022-11-24T18:42:18.405350Z"
    },
    "papermill": {
     "duration": 0.028702,
     "end_time": "2022-11-24T18:42:18.408414",
     "exception": false,
     "start_time": "2022-11-24T18:42:18.379712",
     "status": "completed"
    },
    "tags": []
   },
   "outputs": [],
   "source": [
    "def no_of_vowels_and_consonants(str):\n",
    "    vowel = {'a','e','i','o','u'}\n",
    "    consonant = set(string.ascii_lowercase) - vowel\n",
    "\n",
    "    def count_letters(lst, set_):\n",
    "        return sum([1 for i in lst if i in set_])\n",
    "    \n",
    "    vowels_count = count_letters(list(str), vowel)\n",
    "    consonants_count = count_letters(list(str), consonant)\n",
    "    total = vowels_count + consonants_count + 1\n",
    "    return [vowels_count/total, consonants_count/total] #ratio\n",
    "\n"
   ]
  },
  {
   "cell_type": "code",
   "execution_count": 15,
   "id": "ebde502e",
   "metadata": {
    "execution": {
     "iopub.execute_input": "2022-11-24T18:42:18.448178Z",
     "iopub.status.busy": "2022-11-24T18:42:18.447275Z",
     "iopub.status.idle": "2022-11-24T18:42:18.452988Z",
     "shell.execute_reply": "2022-11-24T18:42:18.452155Z"
    },
    "papermill": {
     "duration": 0.027555,
     "end_time": "2022-11-24T18:42:18.455060",
     "exception": false,
     "start_time": "2022-11-24T18:42:18.427505",
     "status": "completed"
    },
    "tags": []
   },
   "outputs": [],
   "source": [
    "def no_of_nouns(str):\n",
    "    tokens = nltk.word_tokenize(str.lower())\n",
    "    text = nltk.Text(tokens)\n",
    "    tags = nltk.pos_tag(text)\n",
    "    return sum([1 for word,pos in tags if 'NN' in pos])"
   ]
  },
  {
   "cell_type": "code",
   "execution_count": 16,
   "id": "41ac71c7",
   "metadata": {
    "execution": {
     "iopub.execute_input": "2022-11-24T18:42:18.494126Z",
     "iopub.status.busy": "2022-11-24T18:42:18.493354Z",
     "iopub.status.idle": "2022-11-24T18:42:40.977337Z",
     "shell.execute_reply": "2022-11-24T18:42:40.976261Z"
    },
    "hidden": true,
    "papermill": {
     "duration": 22.506097,
     "end_time": "2022-11-24T18:42:40.979705",
     "exception": false,
     "start_time": "2022-11-24T18:42:18.473608",
     "status": "completed"
    },
    "tags": []
   },
   "outputs": [
    {
     "name": "stderr",
     "output_type": "stream",
     "text": [
      "100%|██████████| 4863/4863 [00:00<00:00, 6757.54it/s]\n",
      "100%|██████████| 4863/4863 [00:08<00:00, 591.05it/s]\n",
      "100%|██████████| 4863/4863 [00:09<00:00, 538.33it/s]\n",
      "100%|██████████| 1216/1216 [00:00<00:00, 6887.17it/s]\n",
      "100%|██████████| 1216/1216 [00:01<00:00, 609.52it/s]\n",
      "100%|██████████| 1216/1216 [00:01<00:00, 622.46it/s]\n"
     ]
    }
   ],
   "source": [
    "\n",
    "#######################################################################################################\n",
    "X_train['preprocessed_question_title'] = preprocess_text(X_train['question_title'].values)\n",
    "X_train['preprocessed_question_body'] = preprocess_text(X_train['question_body'].values)\n",
    "X_train['preprocessed_answer'] = preprocess_text(X_train['answer'].values)\n",
    "#######################################################################################################\n",
    "X_test['preprocessed_question_title'] = preprocess_text(X_test['question_title'].values)\n",
    "X_test['preprocessed_question_body'] = preprocess_text(X_test['question_body'].values)\n",
    "X_test['preprocessed_answer'] = preprocess_text(X_test['answer'].values)\n",
    "#######################################################################################################\n",
    "X_train['question_title_length'] = X_train['preprocessed_question_title'].apply(lambda x: len(x.split()))\n",
    "X_test['question_title_length'] = X_test['preprocessed_question_title'].apply(lambda x: len(x.split()))\n",
    "#######################################################################################################\n",
    "X_train['question_body_length'] = X_train['preprocessed_question_body'].apply(lambda x: len(x.split()))\n",
    "X_test['question_body_length'] = X_test['preprocessed_question_body'].apply(lambda x: len(x.split()))\n",
    "#######################################################################################################\n",
    "X_train['answer_length'] = X_train['preprocessed_answer'].apply(lambda x: len(x.split()))\n",
    "X_test['answer_length'] = X_test['preprocessed_answer'].apply(lambda x: len(x.split()))\n",
    "#######################################################################################################\n",
    "X_train['question_title_special_symbols'] = X_train['question_title'].apply(special_symbols)\n",
    "X_train['question_body_special_symbols'] = X_train['question_body'].apply(special_symbols)\n",
    "X_train['answer_special_symbols'] = X_train['answer'].apply(special_symbols)\n",
    "#######################################################################################################\n",
    "X_test['question_title_special_symbols'] = X_test['question_title'].apply(special_symbols)\n",
    "X_test['question_body_special_symbols'] = X_test['question_body'].apply(special_symbols)\n",
    "X_test['answer_special_symbols'] = X_test['answer'].apply(special_symbols)\n",
    "#######################################################################################################"
   ]
  },
  {
   "cell_type": "code",
   "execution_count": 17,
   "id": "449740cb",
   "metadata": {
    "execution": {
     "iopub.execute_input": "2022-11-24T18:42:41.041614Z",
     "iopub.status.busy": "2022-11-24T18:42:41.040693Z",
     "iopub.status.idle": "2022-11-24T18:42:41.056334Z",
     "shell.execute_reply": "2022-11-24T18:42:41.055384Z"
    },
    "papermill": {
     "duration": 0.048249,
     "end_time": "2022-11-24T18:42:41.058572",
     "exception": false,
     "start_time": "2022-11-24T18:42:41.010323",
     "status": "completed"
    },
    "tags": []
   },
   "outputs": [
    {
     "data": {
      "text/html": [
       "<div>\n",
       "<style scoped>\n",
       "    .dataframe tbody tr th:only-of-type {\n",
       "        vertical-align: middle;\n",
       "    }\n",
       "\n",
       "    .dataframe tbody tr th {\n",
       "        vertical-align: top;\n",
       "    }\n",
       "\n",
       "    .dataframe thead th {\n",
       "        text-align: right;\n",
       "    }\n",
       "</style>\n",
       "<table border=\"1\" class=\"dataframe\">\n",
       "  <thead>\n",
       "    <tr style=\"text-align: right;\">\n",
       "      <th></th>\n",
       "      <th>question_title</th>\n",
       "      <th>question_body</th>\n",
       "      <th>answer</th>\n",
       "      <th>category</th>\n",
       "      <th>host</th>\n",
       "      <th>preprocessed_question_title</th>\n",
       "      <th>preprocessed_question_body</th>\n",
       "      <th>preprocessed_answer</th>\n",
       "      <th>question_title_length</th>\n",
       "      <th>question_body_length</th>\n",
       "      <th>answer_length</th>\n",
       "      <th>question_title_special_symbols</th>\n",
       "      <th>question_body_special_symbols</th>\n",
       "      <th>answer_special_symbols</th>\n",
       "    </tr>\n",
       "  </thead>\n",
       "  <tbody>\n",
       "    <tr>\n",
       "      <th>861</th>\n",
       "      <td>Get raw output from web server</td>\n",
       "      <td>For research I am looking to get the actual ra...</td>\n",
       "      <td>Add the --save-headers option to the wget comm...</td>\n",
       "      <td>TECHNOLOGY</td>\n",
       "      <td>serverfault.com</td>\n",
       "      <td>get raw output web server</td>\n",
       "      <td>research look get actual raw output apach send...</td>\n",
       "      <td>add save header option wget command line</td>\n",
       "      <td>5</td>\n",
       "      <td>41</td>\n",
       "      <td>7</td>\n",
       "      <td>0</td>\n",
       "      <td>21</td>\n",
       "      <td>4</td>\n",
       "    </tr>\n",
       "    <tr>\n",
       "      <th>2576</th>\n",
       "      <td>How to prevent the \"Too awesome to use\" syndrome</td>\n",
       "      <td>When you give the player a rare but powerful i...</td>\n",
       "      <td>Short Answer: \\n\\nHave something more valuable...</td>\n",
       "      <td>TECHNOLOGY</td>\n",
       "      <td>gamedev.stackexchange.com</td>\n",
       "      <td>prevent awesom use syndrom</td>\n",
       "      <td>give player rare power item use never realli r...</td>\n",
       "      <td>short answer someth valuabl item player lose h...</td>\n",
       "      <td>4</td>\n",
       "      <td>62</td>\n",
       "      <td>177</td>\n",
       "      <td>2</td>\n",
       "      <td>18</td>\n",
       "      <td>46</td>\n",
       "    </tr>\n",
       "    <tr>\n",
       "      <th>903</th>\n",
       "      <td>High ping on games while streaming</td>\n",
       "      <td>I'm streaming with Elgato Capture Card to Twit...</td>\n",
       "      <td>The problem is you upload speed =(. When you a...</td>\n",
       "      <td>CULTURE</td>\n",
       "      <td>gaming.stackexchange.com</td>\n",
       "      <td>high ping game stream</td>\n",
       "      <td>stream elgato captur card twitch get high ping...</td>\n",
       "      <td>problem upload speed stream send lot data ping...</td>\n",
       "      <td>4</td>\n",
       "      <td>15</td>\n",
       "      <td>30</td>\n",
       "      <td>0</td>\n",
       "      <td>7</td>\n",
       "      <td>13</td>\n",
       "    </tr>\n",
       "    <tr>\n",
       "      <th>2534</th>\n",
       "      <td>How to check image is loaded completely or not...</td>\n",
       "      <td>I m trying to execute some code when image is ...</td>\n",
       "      <td>You can use the onLoad event\\n\\n&amp;lt;script lan...</td>\n",
       "      <td>STACKOVERFLOW</td>\n",
       "      <td>stackoverflow.com</td>\n",
       "      <td>check imag load complet not use javascript fac...</td>\n",
       "      <td>tri execut code imag not load use follow code ...</td>\n",
       "      <td>use onload event lt script languag javascript ...</td>\n",
       "      <td>8</td>\n",
       "      <td>31</td>\n",
       "      <td>20</td>\n",
       "      <td>0</td>\n",
       "      <td>34</td>\n",
       "      <td>27</td>\n",
       "    </tr>\n",
       "    <tr>\n",
       "      <th>109</th>\n",
       "      <td>Facebook Connect Changed My User ID and Delete...</td>\n",
       "      <td>So this actually happened a long time ago I ju...</td>\n",
       "      <td>This isn't possible without hours of painful d...</td>\n",
       "      <td>TECHNOLOGY</td>\n",
       "      <td>meta.stackexchange.com</td>\n",
       "      <td>facebook connect chang user id delet badg</td>\n",
       "      <td>actual happen long time ago never complain bet...</td>\n",
       "      <td>possibl without hour pain dev work manual mani...</td>\n",
       "      <td>7</td>\n",
       "      <td>51</td>\n",
       "      <td>19</td>\n",
       "      <td>0</td>\n",
       "      <td>28</td>\n",
       "      <td>6</td>\n",
       "    </tr>\n",
       "  </tbody>\n",
       "</table>\n",
       "</div>"
      ],
      "text/plain": [
       "                                         question_title  \\\n",
       "861                      Get raw output from web server   \n",
       "2576   How to prevent the \"Too awesome to use\" syndrome   \n",
       "903                  High ping on games while streaming   \n",
       "2534  How to check image is loaded completely or not...   \n",
       "109   Facebook Connect Changed My User ID and Delete...   \n",
       "\n",
       "                                          question_body  \\\n",
       "861   For research I am looking to get the actual ra...   \n",
       "2576  When you give the player a rare but powerful i...   \n",
       "903   I'm streaming with Elgato Capture Card to Twit...   \n",
       "2534  I m trying to execute some code when image is ...   \n",
       "109   So this actually happened a long time ago I ju...   \n",
       "\n",
       "                                                 answer       category  \\\n",
       "861   Add the --save-headers option to the wget comm...     TECHNOLOGY   \n",
       "2576  Short Answer: \\n\\nHave something more valuable...     TECHNOLOGY   \n",
       "903   The problem is you upload speed =(. When you a...        CULTURE   \n",
       "2534  You can use the onLoad event\\n\\n&lt;script lan...  STACKOVERFLOW   \n",
       "109   This isn't possible without hours of painful d...     TECHNOLOGY   \n",
       "\n",
       "                           host  \\\n",
       "861             serverfault.com   \n",
       "2576  gamedev.stackexchange.com   \n",
       "903    gaming.stackexchange.com   \n",
       "2534          stackoverflow.com   \n",
       "109      meta.stackexchange.com   \n",
       "\n",
       "                            preprocessed_question_title  \\\n",
       "861                           get raw output web server   \n",
       "2576                         prevent awesom use syndrom   \n",
       "903                               high ping game stream   \n",
       "2534  check imag load complet not use javascript fac...   \n",
       "109           facebook connect chang user id delet badg   \n",
       "\n",
       "                             preprocessed_question_body  \\\n",
       "861   research look get actual raw output apach send...   \n",
       "2576  give player rare power item use never realli r...   \n",
       "903   stream elgato captur card twitch get high ping...   \n",
       "2534  tri execut code imag not load use follow code ...   \n",
       "109   actual happen long time ago never complain bet...   \n",
       "\n",
       "                                    preprocessed_answer  \\\n",
       "861            add save header option wget command line   \n",
       "2576  short answer someth valuabl item player lose h...   \n",
       "903   problem upload speed stream send lot data ping...   \n",
       "2534  use onload event lt script languag javascript ...   \n",
       "109   possibl without hour pain dev work manual mani...   \n",
       "\n",
       "      question_title_length  question_body_length  answer_length  \\\n",
       "861                       5                    41              7   \n",
       "2576                      4                    62            177   \n",
       "903                       4                    15             30   \n",
       "2534                      8                    31             20   \n",
       "109                       7                    51             19   \n",
       "\n",
       "      question_title_special_symbols  question_body_special_symbols  \\\n",
       "861                                0                             21   \n",
       "2576                               2                             18   \n",
       "903                                0                              7   \n",
       "2534                               0                             34   \n",
       "109                                0                             28   \n",
       "\n",
       "      answer_special_symbols  \n",
       "861                        4  \n",
       "2576                      46  \n",
       "903                       13  \n",
       "2534                      27  \n",
       "109                        6  "
      ]
     },
     "execution_count": 17,
     "metadata": {},
     "output_type": "execute_result"
    }
   ],
   "source": [
    "X_train.head()"
   ]
  },
  {
   "cell_type": "code",
   "execution_count": 18,
   "id": "c6690372",
   "metadata": {
    "execution": {
     "iopub.execute_input": "2022-11-24T18:42:41.186164Z",
     "iopub.status.busy": "2022-11-24T18:42:41.185069Z",
     "iopub.status.idle": "2022-11-24T18:42:41.196141Z",
     "shell.execute_reply": "2022-11-24T18:42:41.195058Z"
    },
    "hidden": true,
    "papermill": {
     "duration": 0.044749,
     "end_time": "2022-11-24T18:42:41.198301",
     "exception": false,
     "start_time": "2022-11-24T18:42:41.153552",
     "status": "completed"
    },
    "tags": []
   },
   "outputs": [
    {
     "name": "stdout",
     "output_type": "stream",
     "text": [
      "Number of NULL Values in question title, 4863 out if 4863. Percent of missing value: 0.0%.\n",
      "Number of unique Values  3190\n",
      "Number of NULL Values 1216 out if 1216. Percent of missing value: 0.0%.\n",
      "Number of unique Values  1091\n"
     ]
    }
   ],
   "source": [
    "miss = len(X_train['question_title'].isnull())\n",
    "total = len(X_train['question_title'])\n",
    "print(f\"Number of NULL Values in question title, {miss} out if {total}. Percent of missing value: {(total-miss)/total}%.\")\n",
    "print(\"Number of unique Values \", X_train['question_title'].nunique())\n",
    "\n",
    "miss = len(X_test['question_title'].isnull())\n",
    "total = len(X_test['question_title'])\n",
    "print(f\"Number of NULL Values {miss} out if {total}. Percent of missing value: {(total-miss)/total}%.\")\n",
    "print(\"Number of unique Values \", X_test['question_title'].nunique())\n"
   ]
  },
  {
   "cell_type": "code",
   "execution_count": 19,
   "id": "c5e0a885",
   "metadata": {
    "execution": {
     "iopub.execute_input": "2022-11-24T18:42:41.262559Z",
     "iopub.status.busy": "2022-11-24T18:42:41.261585Z",
     "iopub.status.idle": "2022-11-24T18:42:42.254045Z",
     "shell.execute_reply": "2022-11-24T18:42:42.253073Z"
    },
    "hidden": true,
    "papermill": {
     "duration": 1.02735,
     "end_time": "2022-11-24T18:42:42.256823",
     "exception": false,
     "start_time": "2022-11-24T18:42:41.229473",
     "status": "completed"
    },
    "tags": []
   },
   "outputs": [
    {
     "name": "stdout",
     "output_type": "stream",
     "text": [
      "====================================================================================================\n"
     ]
    },
    {
     "data": {
      "image/png": "[encoded data removed]",
      "text/plain": [
       "<Figure size 576x360 with 1 Axes>"
      ]
     },
     "metadata": {
      "needs_background": "light"
     },
     "output_type": "display_data"
    },
    {
     "name": "stdout",
     "output_type": "stream",
     "text": [
      "====================================================================================================\n"
     ]
    },
    {
     "data": {
      "image/png": "[encoded data removed]",
      "text/plain": [
       "<Figure size 576x360 with 1 Axes>"
      ]
     },
     "metadata": {
      "needs_background": "light"
     },
     "output_type": "display_data"
    },
    {
     "name": "stdout",
     "output_type": "stream",
     "text": [
      "====================================================================================================\n"
     ]
    }
   ],
   "source": [
    "print('='*100)\n",
    "\n",
    "# set width of bar\n",
    "barWidth = 0.25\n",
    "fig = plt.subplots(figsize =(8, 5))\n",
    "sns.distplot(X_train['question_title_special_symbols'], label = 'train_data', color ='r' )\n",
    "sns.distplot(X_test['question_title_special_symbols'], label = 'test_data', color ='b')\n",
    "plt.xlabel('Number of special symbols in question title', fontweight ='bold', fontsize = 15)\n",
    "plt.ylabel('PDF of Number of Observation', fontweight ='bold', fontsize = 15)\n",
    "plt.legend()\n",
    "plt.show()\n",
    "\n",
    "print('='*100)\n",
    "\n",
    "# set width of bar\n",
    "barWidth = 0.25\n",
    "fig = plt.subplots(figsize =(8, 5))\n",
    "sns.distplot(X_train['question_title_length'], label = 'train_data', color ='r')\n",
    "sns.distplot(X_test['question_title_length'], label = 'test_data', color ='b')\n",
    "plt.xlabel('Length of question title', fontweight ='bold', fontsize = 15)\n",
    "plt.ylabel('PDF of Number of Observation', fontweight ='bold', fontsize = 15)\n",
    "plt.legend()\n",
    "plt.show()\n",
    "\n",
    "print('='*100)"
   ]
  },
  {
   "cell_type": "code",
   "execution_count": 20,
   "id": "9ac7d947",
   "metadata": {
    "execution": {
     "iopub.execute_input": "2022-11-24T18:42:42.321739Z",
     "iopub.status.busy": "2022-11-24T18:42:42.320191Z",
     "iopub.status.idle": "2022-11-24T18:42:42.327189Z",
     "shell.execute_reply": "2022-11-24T18:42:42.325839Z"
    },
    "hidden": true,
    "papermill": {
     "duration": 0.041185,
     "end_time": "2022-11-24T18:42:42.329201",
     "exception": false,
     "start_time": "2022-11-24T18:42:42.288016",
     "status": "completed"
    },
    "tags": []
   },
   "outputs": [
    {
     "name": "stdout",
     "output_type": "stream",
     "text": [
      "Mean number of symbol in question title : 1.4665844129138392\n",
      "Mean length of question title : 5.776475426691343\n"
     ]
    }
   ],
   "source": [
    "print(\"Mean number of symbol in question title :\", np.mean(X_train['question_title_special_symbols']))\n",
    "print(\"Mean length of question title :\", np.mean(X_train['question_title_length']))"
   ]
  },
  {
   "cell_type": "markdown",
   "id": "875c4fdd",
   "metadata": {
    "heading_collapsed": true,
    "hidden": true,
    "papermill": {
     "duration": 0.036341,
     "end_time": "2022-11-24T18:42:43.989134",
     "exception": false,
     "start_time": "2022-11-24T18:42:43.952793",
     "status": "completed"
    },
    "tags": []
   },
   "source": [
    "#### 3.2.2. Analysis of question_body "
   ]
  },
  {
   "cell_type": "code",
   "execution_count": 22,
   "id": "ff1c7e23",
   "metadata": {
    "execution": {
     "iopub.execute_input": "2022-11-24T18:42:44.063333Z",
     "iopub.status.busy": "2022-11-24T18:42:44.062985Z",
     "iopub.status.idle": "2022-11-24T18:42:44.081908Z",
     "shell.execute_reply": "2022-11-24T18:42:44.080698Z"
    },
    "hidden": true,
    "papermill": {
     "duration": 0.058677,
     "end_time": "2022-11-24T18:42:44.084185",
     "exception": false,
     "start_time": "2022-11-24T18:42:44.025508",
     "status": "completed"
    },
    "tags": []
   },
   "outputs": [
    {
     "name": "stdout",
     "output_type": "stream",
     "text": [
      "Number of NULL Values in question body, 4863 out if 4863. Percent of missing value: 0.0%.\n",
      "Number of unique Values  3190\n",
      "Number of NULL Values 1216 out if 1216. Percent of missing value: 0.0%.\n",
      "Number of unique Values  1091\n"
     ]
    }
   ],
   "source": [
    "miss = len(X_train['question_body'].isnull())\n",
    "total = len(X_train['question_body'])\n",
    "print(f\"Number of NULL Values in question body, {miss} out if {total}. Percent of missing value: {(total-miss)/total}%.\")\n",
    "print(\"Number of unique Values \", X_train['question_body'].nunique())\n",
    "\n",
    "miss = len(X_test['question_body'].isnull())\n",
    "total = len(X_test['question_body'])\n",
    "print(f\"Number of NULL Values {miss} out if {total}. Percent of missing value: {(total-miss)/total}%.\")\n",
    "print(\"Number of unique Values \", X_test['question_body'].nunique())\n"
   ]
  },
  {
   "cell_type": "code",
   "execution_count": 23,
   "id": "e359e735",
   "metadata": {
    "execution": {
     "iopub.execute_input": "2022-11-24T18:42:44.157737Z",
     "iopub.status.busy": "2022-11-24T18:42:44.157075Z",
     "iopub.status.idle": "2022-11-24T18:42:45.235331Z",
     "shell.execute_reply": "2022-11-24T18:42:45.234350Z"
    },
    "hidden": true,
    "papermill": {
     "duration": 1.11805,
     "end_time": "2022-11-24T18:42:45.238130",
     "exception": false,
     "start_time": "2022-11-24T18:42:44.120080",
     "status": "completed"
    },
    "tags": []
   },
   "outputs": [
    {
     "name": "stdout",
     "output_type": "stream",
     "text": [
      "====================================================================================================\n"
     ]
    },
    {
     "data": {
      "image/png": "[encoded data removed]",
      "text/plain": [
       "<Figure size 576x360 with 1 Axes>"
      ]
     },
     "metadata": {
      "needs_background": "light"
     },
     "output_type": "display_data"
    },
    {
     "name": "stdout",
     "output_type": "stream",
     "text": [
      "====================================================================================================\n"
     ]
    },
    {
     "data": {
      "image/png": "[encoded data removed]",
      "text/plain": [
       "<Figure size 576x360 with 1 Axes>"
      ]
     },
     "metadata": {
      "needs_background": "light"
     },
     "output_type": "display_data"
    },
    {
     "name": "stdout",
     "output_type": "stream",
     "text": [
      "====================================================================================================\n"
     ]
    }
   ],
   "source": [
    "print('='*100)\n",
    "\n",
    "# set width of bar\n",
    "barWidth = 0.25\n",
    "fig = plt.subplots(figsize =(8, 5))\n",
    "sns.distplot(X_train['question_body_special_symbols'], label = 'train_data', color ='r' )\n",
    "sns.distplot(X_test['question_body_special_symbols'], label = 'test_data', color ='b')\n",
    "plt.xlabel('Number of special symbols in question title', fontweight ='bold', fontsize = 15)\n",
    "plt.ylabel('Number of Observation', fontweight ='bold', fontsize = 15)\n",
    "plt.title(\"PDF of # vs special symbol\", fontweight ='bold', fontsize = 15)\n",
    "plt.legend()\n",
    "plt.show()\n",
    "\n",
    "print('='*100)\n",
    "\n",
    "# set width of bar\n",
    "barWidth = 0.25\n",
    "fig = plt.subplots(figsize =(8, 5))\n",
    "sns.distplot(X_train['question_body_length'], label = 'train_data', color ='r')\n",
    "sns.distplot(X_test['question_body_length'], label = 'test_data', color ='b')\n",
    "plt.xlabel('Length in question title', fontweight ='bold', fontsize = 15)\n",
    "plt.ylabel('Number of Observation', fontweight ='bold', fontsize = 15)\n",
    "plt.title(\"PDF of # vs length\", fontweight ='bold', fontsize = 15)\n",
    "plt.legend()\n",
    "plt.show()\n",
    "\n",
    "print('='*100)"
   ]
  },
  {
   "cell_type": "code",
   "execution_count": 24,
   "id": "0ff66830",
   "metadata": {
    "execution": {
     "iopub.execute_input": "2022-11-24T18:42:45.362620Z",
     "iopub.status.busy": "2022-11-24T18:42:45.361444Z",
     "iopub.status.idle": "2022-11-24T18:42:45.621913Z",
     "shell.execute_reply": "2022-11-24T18:42:45.620801Z"
    },
    "hidden": true,
    "papermill": {
     "duration": 0.324056,
     "end_time": "2022-11-24T18:42:45.624569",
     "exception": false,
     "start_time": "2022-11-24T18:42:45.300513",
     "status": "completed"
    },
    "tags": []
   },
   "outputs": [
    {
     "data": {
      "image/png": "[encoded data removed]",
      "text/plain": [
       "<Figure size 288x288 with 1 Axes>"
      ]
     },
     "metadata": {
      "needs_background": "light"
     },
     "output_type": "display_data"
    }
   ],
   "source": [
    "# percentile values\n",
    "question_body_percentile = []\n",
    "train_tmp = X_train['question_body_length'].value_counts().sort_index().cumsum()\n",
    "train_tmp = train_tmp / max(train_tmp)\n",
    "# plot the WordCloud image                      \n",
    "plt.figure(figsize = (4, 4), facecolor = None)\n",
    "\n",
    "plt.plot(train_tmp)\n",
    "plt.legend()\n",
    "plt.xlabel(\"Length of Question Body\", fontweight ='bold', fontsize = 15)\n",
    "plt.ylabel(\"Number of Observation\", fontweight ='bold', fontsize = 15)\n",
    "plt.title(\"CDF of # vs length\", fontweight ='bold', fontsize = 15)\n",
    "plt.show()"
   ]
  },
  {
   "cell_type": "markdown",
   "id": "f88fcef1",
   "metadata": {
    "heading_collapsed": true,
    "hidden": true,
    "papermill": {
     "duration": 0.042036,
     "end_time": "2022-11-24T18:42:47.593931",
     "exception": false,
     "start_time": "2022-11-24T18:42:47.551895",
     "status": "completed"
    },
    "tags": []
   },
   "source": [
    "#### 3.2.3. Analysis of answer"
   ]
  },
  {
   "cell_type": "code",
   "execution_count": 26,
   "id": "1d5a83b4",
   "metadata": {
    "execution": {
     "iopub.execute_input": "2022-11-24T18:42:47.678806Z",
     "iopub.status.busy": "2022-11-24T18:42:47.678468Z",
     "iopub.status.idle": "2022-11-24T18:42:47.699721Z",
     "shell.execute_reply": "2022-11-24T18:42:47.698664Z"
    },
    "hidden": true,
    "papermill": {
     "duration": 0.066488,
     "end_time": "2022-11-24T18:42:47.701817",
     "exception": false,
     "start_time": "2022-11-24T18:42:47.635329",
     "status": "completed"
    },
    "tags": []
   },
   "outputs": [
    {
     "name": "stdout",
     "output_type": "stream",
     "text": [
      "Number of NULL Values in question body, 4863 out if 4863. Percent of missing value: 0.0%.\n",
      "Number of unique Values  4863\n",
      "Number of NULL Values 1216 out if 1216. Percent of missing value: 0.0%.\n",
      "Number of unique Values  1216\n"
     ]
    }
   ],
   "source": [
    "miss = len(X_train['answer'].isnull())\n",
    "total = len(X_train['answer'])\n",
    "print(f\"Number of NULL Values in question body, {miss} out if {total}. Percent of missing value: {(total-miss)/total}%.\")\n",
    "print(\"Number of unique Values \", X_train['answer'].nunique())\n",
    "\n",
    "miss = len(X_test['answer'].isnull())\n",
    "total = len(X_test['answer'])\n",
    "print(f\"Number of NULL Values {miss} out if {total}. Percent of missing value: {(total-miss)/total}%.\")\n",
    "print(\"Number of unique Values \", X_test['answer'].nunique())\n"
   ]
  },
  {
   "cell_type": "code",
   "execution_count": 27,
   "id": "26f75d65",
   "metadata": {
    "execution": {
     "iopub.execute_input": "2022-11-24T18:42:47.786617Z",
     "iopub.status.busy": "2022-11-24T18:42:47.786313Z",
     "iopub.status.idle": "2022-11-24T18:42:48.675956Z",
     "shell.execute_reply": "2022-11-24T18:42:48.674984Z"
    },
    "hidden": true,
    "papermill": {
     "duration": 0.934818,
     "end_time": "2022-11-24T18:42:48.678268",
     "exception": false,
     "start_time": "2022-11-24T18:42:47.743450",
     "status": "completed"
    },
    "tags": []
   },
   "outputs": [
    {
     "name": "stdout",
     "output_type": "stream",
     "text": [
      "====================================================================================================\n"
     ]
    },
    {
     "data": {
      "image/png": "[encoded data removed]",
      "text/plain": [
       "<Figure size 576x360 with 1 Axes>"
      ]
     },
     "metadata": {
      "needs_background": "light"
     },
     "output_type": "display_data"
    },
    {
     "name": "stdout",
     "output_type": "stream",
     "text": [
      "====================================================================================================\n"
     ]
    },
    {
     "data": {
      "image/png": "[encoded data removed]",
      "text/plain": [
       "<Figure size 576x360 with 1 Axes>"
      ]
     },
     "metadata": {
      "needs_background": "light"
     },
     "output_type": "display_data"
    },
    {
     "name": "stdout",
     "output_type": "stream",
     "text": [
      "====================================================================================================\n"
     ]
    }
   ],
   "source": [
    "print('='*100)\n",
    "\n",
    "# set width of bar\n",
    "barWidth = 0.25\n",
    "fig = plt.subplots(figsize =(8, 5))\n",
    "sns.distplot(X_train['answer_special_symbols'], label = 'train_data', color ='r' )\n",
    "sns.distplot(X_test['answer_special_symbols'], label = 'test_data', color ='b')\n",
    "plt.xlabel('Number of special symbols in question title', fontweight ='bold', fontsize = 15)\n",
    "plt.ylabel('PDF of Number of Observation', fontweight ='bold', fontsize = 15)\n",
    "plt.legend()\n",
    "plt.show()\n",
    "\n",
    "print('='*100)\n",
    "\n",
    "# set width of bar\n",
    "barWidth = 0.25\n",
    "fig = plt.subplots(figsize =(8, 5))\n",
    "sns.distplot(X_train['answer_length'], label = 'train_data', color ='r')\n",
    "sns.distplot(X_test['answer_length'], label = 'test_data', color ='b')\n",
    "plt.xlabel('Length in question title', fontweight ='bold', fontsize = 15)\n",
    "plt.ylabel('PDF of Number of Observation', fontweight ='bold', fontsize = 15)\n",
    "plt.legend()\n",
    "plt.show()\n",
    "\n",
    "print('='*100)"
   ]
  },
  {
   "cell_type": "code",
   "execution_count": 28,
   "id": "42e6ec9d",
   "metadata": {
    "execution": {
     "iopub.execute_input": "2022-11-24T18:42:48.765982Z",
     "iopub.status.busy": "2022-11-24T18:42:48.765648Z",
     "iopub.status.idle": "2022-11-24T18:42:48.980564Z",
     "shell.execute_reply": "2022-11-24T18:42:48.979613Z"
    },
    "hidden": true,
    "papermill": {
     "duration": 0.26182,
     "end_time": "2022-11-24T18:42:48.983052",
     "exception": false,
     "start_time": "2022-11-24T18:42:48.721232",
     "status": "completed"
    },
    "tags": []
   },
   "outputs": [
    {
     "data": {
      "image/png": "[encoded data removed]",
      "text/plain": [
       "<Figure size 288x288 with 1 Axes>"
      ]
     },
     "metadata": {
      "needs_background": "light"
     },
     "output_type": "display_data"
    }
   ],
   "source": [
    "# percentile values\n",
    "question_body_percentile = []\n",
    "train_tmp = X_train['answer_length'].value_counts().sort_index().cumsum()\n",
    "train_tmp = train_tmp / max(train_tmp)\n",
    "# plot the WordCloud image                      \n",
    "plt.figure(figsize = (4, 4), facecolor = None)\n",
    "\n",
    "plt.plot(train_tmp)\n",
    "plt.xlabel(\"Length of Question Body\", fontweight ='bold', fontsize = 15)\n",
    "plt.ylabel(\"Number of Observation\", fontweight ='bold', fontsize = 15)\n",
    "plt.title(\"CDF of # vs length\", fontweight ='bold', fontsize = 15)\n",
    "plt.show()"
   ]
  },
  {
   "cell_type": "markdown",
   "id": "1f8eb5ab",
   "metadata": {
    "hidden": true,
    "papermill": {
     "duration": 0.04717,
     "end_time": "2022-11-24T18:42:50.901402",
     "exception": false,
     "start_time": "2022-11-24T18:42:50.854232",
     "status": "completed"
    },
    "tags": []
   },
   "source": [
    "Final EDA Observation:\n",
    "<li> For same question title and body mutiple answer available. <br>\n",
    "<li> Usable features are category, host, question_title, question_body, answer. <br>\n"
   ]
  },
  {
   "cell_type": "markdown",
   "id": "aa847585",
   "metadata": {
    "papermill": {
     "duration": 0.046826,
     "end_time": "2022-11-24T18:42:50.994775",
     "exception": false,
     "start_time": "2022-11-24T18:42:50.947949",
     "status": "completed"
    },
    "tags": []
   },
   "source": [
    "## 4. Feature Engineering\n",
    "<a id='4'></a>"
   ]
  },
  {
   "cell_type": "code",
   "execution_count": 30,
   "id": "85197e92",
   "metadata": {
    "execution": {
     "iopub.execute_input": "2022-11-24T18:42:51.091491Z",
     "iopub.status.busy": "2022-11-24T18:42:51.091134Z",
     "iopub.status.idle": "2022-11-24T18:42:51.149748Z",
     "shell.execute_reply": "2022-11-24T18:42:51.148863Z"
    },
    "papermill": {
     "duration": 0.109843,
     "end_time": "2022-11-24T18:42:51.151907",
     "exception": false,
     "start_time": "2022-11-24T18:42:51.042064",
     "status": "completed"
    },
    "tags": []
   },
   "outputs": [],
   "source": [
    "\n",
    "# Binary Encoding of Categorical Feature: host\n",
    "binaryencoder = ce.BinaryEncoder() \n",
    "X_train_host = binaryencoder.fit_transform(X_train['host'])\n",
    "X_test_host = binaryencoder.transform(X_test['host'])\n",
    "\n",
    "# Binary Encoding of Categorical Feature: category\n",
    "binaryencoder = ce.BinaryEncoder() \n",
    "X_train_category = binaryencoder.fit_transform(X_train['category'])\n",
    "X_test_category = binaryencoder.fit_transform(X_test['category'])"
   ]
  },
  {
   "cell_type": "code",
   "execution_count": 31,
   "id": "eec09c36",
   "metadata": {
    "execution": {
     "iopub.execute_input": "2022-11-24T18:42:51.249844Z",
     "iopub.status.busy": "2022-11-24T18:42:51.249171Z",
     "iopub.status.idle": "2022-11-24T18:42:55.831032Z",
     "shell.execute_reply": "2022-11-24T18:42:55.829989Z"
    },
    "papermill": {
     "duration": 4.634394,
     "end_time": "2022-11-24T18:42:55.833971",
     "exception": false,
     "start_time": "2022-11-24T18:42:51.199577",
     "status": "completed"
    },
    "tags": []
   },
   "outputs": [],
   "source": [
    "X_train['preprocessed_question'] = X_train['preprocessed_question_title'] + X_train['preprocessed_question_body']\n",
    "X_test['preprocessed_question'] = X_test['preprocessed_question_title'] + X_test['preprocessed_question_body']\n",
    "\n",
    "vectorizer = TfidfVectorizer(ngram_range = (1,4), min_df=4)\n",
    "X_train_question_tfidf = vectorizer.fit_transform(X_train['preprocessed_question'])\n",
    "X_test_question_tfidf = vectorizer.transform(X_test['preprocessed_question'])\n",
    "\n",
    "vectorizer = TfidfVectorizer(ngram_range = (1,4), min_df=4)\n",
    "X_train_answer_tfidf = vectorizer.fit_transform(X_train['preprocessed_answer'])\n",
    "X_test_answer_tfidf = vectorizer.transform(X_test['preprocessed_answer'])\n"
   ]
  },
  {
   "cell_type": "code",
   "execution_count": 32,
   "id": "64f8d255",
   "metadata": {
    "execution": {
     "iopub.execute_input": "2022-11-24T18:42:55.950841Z",
     "iopub.status.busy": "2022-11-24T18:42:55.950339Z",
     "iopub.status.idle": "2022-11-24T18:42:55.969699Z",
     "shell.execute_reply": "2022-11-24T18:42:55.965281Z"
    },
    "papermill": {
     "duration": 0.090719,
     "end_time": "2022-11-24T18:42:55.973269",
     "exception": false,
     "start_time": "2022-11-24T18:42:55.882550",
     "status": "completed"
    },
    "tags": []
   },
   "outputs": [
    {
     "data": {
      "text/plain": [
       "(4863, 11936)"
      ]
     },
     "execution_count": 32,
     "metadata": {},
     "output_type": "execute_result"
    }
   ],
   "source": [
    "X_train_answer_tfidf.shape"
   ]
  },
  {
   "cell_type": "code",
   "execution_count": 33,
   "id": "76ad651c",
   "metadata": {
    "execution": {
     "iopub.execute_input": "2022-11-24T18:42:56.280811Z",
     "iopub.status.busy": "2022-11-24T18:42:56.280248Z",
     "iopub.status.idle": "2022-11-24T18:42:59.505458Z",
     "shell.execute_reply": "2022-11-24T18:42:59.504429Z"
    },
    "hidden": true,
    "papermill": {
     "duration": 3.301583,
     "end_time": "2022-11-24T18:42:59.507950",
     "exception": false,
     "start_time": "2022-11-24T18:42:56.206367",
     "status": "completed"
    },
    "tags": []
   },
   "outputs": [],
   "source": [
    "X_train_A = pd.concat([pd.DataFrame(X_train_question_tfidf.toarray()), X_train_host.reset_index(drop = True), X_train_category.reset_index(drop = True), X_train[['question_title_length', 'question_body_length', 'answer_length', 'question_title_special_symbols', 'question_body_special_symbols',\t'answer_special_symbols']].reset_index(drop = True)], axis=1)\n",
    "X_test_A = pd.concat([pd.DataFrame(X_test_question_tfidf.toarray()), X_test_host.reset_index(drop = True), X_test_category.reset_index(drop = True), X_test[['question_title_length', 'question_body_length', 'answer_length', 'question_title_special_symbols', 'question_body_special_symbols',\t'answer_special_symbols']].reset_index(drop = True)], axis=1)"
   ]
  },
  {
   "cell_type": "code",
   "execution_count": 34,
   "id": "43d716bd",
   "metadata": {
    "execution": {
     "iopub.execute_input": "2022-11-24T18:42:59.606143Z",
     "iopub.status.busy": "2022-11-24T18:42:59.604718Z",
     "iopub.status.idle": "2022-11-24T18:42:59.611237Z",
     "shell.execute_reply": "2022-11-24T18:42:59.610038Z"
    },
    "hidden": true,
    "papermill": {
     "duration": 0.05756,
     "end_time": "2022-11-24T18:42:59.613356",
     "exception": false,
     "start_time": "2022-11-24T18:42:59.555796",
     "status": "completed"
    },
    "tags": []
   },
   "outputs": [
    {
     "name": "stdout",
     "output_type": "stream",
     "text": [
      "(4863, 29510)\n",
      "(1216, 29510)\n",
      "(4863, 30)\n",
      "(1216, 30)\n"
     ]
    }
   ],
   "source": [
    "print(X_train_A.shape)\n",
    "print(X_test_A.shape)\n",
    "print(y_train.shape)\n",
    "print(y_test.shape)"
   ]
  },
  {
   "cell_type": "code",
   "execution_count": 35,
   "id": "0a2312e3",
   "metadata": {
    "execution": {
     "iopub.execute_input": "2022-11-24T18:42:59.803048Z",
     "iopub.status.busy": "2022-11-24T18:42:59.802222Z",
     "iopub.status.idle": "2022-11-24T18:43:01.325889Z",
     "shell.execute_reply": "2022-11-24T18:43:01.324762Z"
    },
    "hidden": true,
    "papermill": {
     "duration": 1.575323,
     "end_time": "2022-11-24T18:43:01.328728",
     "exception": false,
     "start_time": "2022-11-24T18:42:59.753405",
     "status": "completed"
    },
    "tags": []
   },
   "outputs": [],
   "source": [
    "X_train_B = pd.concat([pd.DataFrame(X_train_answer_tfidf.toarray()), X_train_host.reset_index(drop = True), X_train_category.reset_index(drop = True), X_train[['question_title_length', 'question_body_length', 'answer_length', 'question_title_special_symbols', 'question_body_special_symbols',\t'answer_special_symbols']].reset_index(drop = True)], axis=1)\n",
    "X_test_B = pd.concat([pd.DataFrame(X_test_answer_tfidf.toarray()), X_test_host.reset_index(drop = True), X_test_category.reset_index(drop = True), X_test[['question_title_length', 'question_body_length', 'answer_length', 'question_title_special_symbols', 'question_body_special_symbols',\t'answer_special_symbols']].reset_index(drop = True)], axis=1)"
   ]
  },
  {
   "cell_type": "code",
   "execution_count": 36,
   "id": "65a97596",
   "metadata": {
    "execution": {
     "iopub.execute_input": "2022-11-24T18:43:01.439214Z",
     "iopub.status.busy": "2022-11-24T18:43:01.438764Z",
     "iopub.status.idle": "2022-11-24T18:43:01.446984Z",
     "shell.execute_reply": "2022-11-24T18:43:01.445921Z"
    },
    "hidden": true,
    "papermill": {
     "duration": 0.066688,
     "end_time": "2022-11-24T18:43:01.449143",
     "exception": false,
     "start_time": "2022-11-24T18:43:01.382455",
     "status": "completed"
    },
    "tags": []
   },
   "outputs": [
    {
     "name": "stdout",
     "output_type": "stream",
     "text": [
      " ==== Features for Question Based Aspect ==== \n",
      "(4863, 29510)\n",
      "(1216, 29510)\n",
      " ==== Features for Answer Based Aspect ==== \n",
      "(4863, 11951)\n",
      "(1216, 11951)\n",
      " ==== Labels ==== \n",
      "(4863, 30)\n",
      "(1216, 30)\n"
     ]
    }
   ],
   "source": [
    "y_train = y_train.reset_index(drop=True)\n",
    "y_test = y_test.reset_index(drop=True)\n",
    "print(\" ==== Features for Question Based Aspect ==== \")\n",
    "print(X_train_A.shape)\n",
    "print(X_test_A.shape)\n",
    "print(\" ==== Features for Answer Based Aspect ==== \")\n",
    "print(X_train_B.shape)\n",
    "print(X_test_B.shape)\n",
    "print(\" ==== Labels ==== \")\n",
    "print(y_train.shape)\n",
    "print(y_test.shape)"
   ]
  },
  {
   "cell_type": "code",
   "execution_count": 37,
   "id": "97a5ace1",
   "metadata": {
    "execution": {
     "iopub.execute_input": "2022-11-24T18:43:01.549440Z",
     "iopub.status.busy": "2022-11-24T18:43:01.547562Z",
     "iopub.status.idle": "2022-11-24T18:43:01.555661Z",
     "shell.execute_reply": "2022-11-24T18:43:01.554764Z"
    },
    "hidden": true,
    "papermill": {
     "duration": 0.058533,
     "end_time": "2022-11-24T18:43:01.557602",
     "exception": false,
     "start_time": "2022-11-24T18:43:01.499069",
     "status": "completed"
    },
    "tags": []
   },
   "outputs": [],
   "source": [
    "# saving train and test data\n",
    "path = './'\n",
    "# path = '../input/google-quest-challenge-files/'\n",
    "if False:\n",
    "# if True:\n",
    "    X_train_A.to_csv(path+'X_train_A.csv', index=False)\n",
    "    X_test_A.to_csv(path+'X_test_A.csv', index=False)\n",
    "    X_train_B.to_csv(path+'X_train_B.csv', index=False)\n",
    "    X_test_B.to_csv(path+'X_test_B.csv', index=False)\n",
    "    y_train.to_csv(path+'y_train.csv', index=False)\n",
    "    y_test.to_csv(path+'y_test.csv', index=False)\n",
    "\n",
    "if False:\n",
    "# if True:\n",
    "    \n",
    "    path = '../input/google-quest-challenge-files/'\n",
    "    X_train_A = pd.read_csv(path+'X_train_A.csv')\n",
    "    X_test_A = pd.read_csv(path+'X_test_A.csv')\n",
    "    X_train_B = pd.read_csv(path+'X_train_B.csv')\n",
    "    X_test_B = pd.read_csv(path+'X_test_B.csv')\n",
    "    y_train = pd.read_csv(path+'y_train.csv')\n",
    "    y_test = pd.read_csv(path+'y_test.csv')"
   ]
  },
  {
   "cell_type": "code",
   "execution_count": 38,
   "id": "22066d29",
   "metadata": {
    "execution": {
     "iopub.execute_input": "2022-11-24T18:43:01.843710Z",
     "iopub.status.busy": "2022-11-24T18:43:01.842630Z",
     "iopub.status.idle": "2022-11-24T18:43:01.850721Z",
     "shell.execute_reply": "2022-11-24T18:43:01.849658Z"
    },
    "papermill": {
     "duration": 0.059259,
     "end_time": "2022-11-24T18:43:01.852821",
     "exception": false,
     "start_time": "2022-11-24T18:43:01.793562",
     "status": "completed"
    },
    "tags": []
   },
   "outputs": [
    {
     "name": "stdout",
     "output_type": "stream",
     "text": [
      "Number of labels related to question:  21\n",
      "Number of labels related to answer:  9\n"
     ]
    }
   ],
   "source": [
    "y_label_question_names = ['question_asker_intent_understanding', 'question_body_critical', 'question_conversational', 'question_expect_short_answer', 'question_fact_seeking', 'question_has_commonly_accepted_answer', 'question_interestingness_others', 'question_interestingness_self', 'question_multi_intent', 'question_not_really_a_question', 'question_opinion_seeking', 'question_type_choice', 'question_type_compare', 'question_type_consequence', 'question_type_definition', 'question_type_entity', 'question_type_instructions', 'question_type_procedure', 'question_type_reason_explanation', 'question_type_spelling', 'question_well_written']\n",
    "y_label_answer_names = ['answer_helpful', 'answer_level_of_information', 'answer_plausible', 'answer_relevance', 'answer_satisfaction', 'answer_type_instructions', 'answer_type_procedure', 'answer_type_reason_explanation', 'answer_well_written']\n",
    "\n",
    "print(\"Number of labels related to question: \",len(y_label_question_names))\n",
    "print(\"Number of labels related to answer: \", len(y_label_answer_names))"
   ]
  },
  {
   "cell_type": "code",
   "execution_count": 39,
   "id": "dbf6c396",
   "metadata": {
    "execution": {
     "iopub.execute_input": "2022-11-24T18:43:01.950018Z",
     "iopub.status.busy": "2022-11-24T18:43:01.949059Z",
     "iopub.status.idle": "2022-11-24T18:43:01.959067Z",
     "shell.execute_reply": "2022-11-24T18:43:01.958063Z"
    },
    "papermill": {
     "duration": 0.061105,
     "end_time": "2022-11-24T18:43:01.961065",
     "exception": false,
     "start_time": "2022-11-24T18:43:01.899960",
     "status": "completed"
    },
    "tags": []
   },
   "outputs": [],
   "source": [
    "class encoder_decoder:\n",
    "    \"\"\"\n",
    "    Used to encode numberical label to classes\n",
    "    \"\"\"\n",
    "    \n",
    "    def __init__(self):\n",
    "        pass\n",
    "\n",
    "    def fit(self, array):\n",
    "        # array = [i.round(6) for i in array]\n",
    "        self.unique_labels = np.sort(np.unique(array))\n",
    "        self.label_dict = {v:k for v,k in enumerate(self.unique_labels)}\n",
    "        self.reverse_label_dict = {k:v for v,k in enumerate(self.unique_labels)}\n",
    "        \n",
    "    def encode(self, array):\n",
    "        encoded_array = np.array([self.reverse_label_dict[i] for i in array])\n",
    "        return encoded_array\n",
    "\n",
    "    def decode(self, array):\n",
    "        decoded_array = np.array([self.label_dict[i] for i in array])\n",
    "        return decoded_array\n",
    "    \n",
    "# def accuracy_score(y_true,y_pred):\n",
    "#     score = 0\n",
    "#     for yt,yp in zip(y_true, y_pred):\n",
    "#         if yt == yp:\n",
    "#             score += 1\n",
    "#     return score/len(y_true)\n",
    "\n",
    "# def accuracy_score_off_by_1(y_true,y_pred):\n",
    "#     score = 0\n",
    "#     for yt,yp in zip(y_true, y_pred):\n",
    "#         if yt == yp or yt == yp-1 or yt == yp+1:\n",
    "#             score += 1\n",
    "#     return score/len(y_true)\n",
    "\n",
    "# Spearman's correlation coefficient\n",
    "def spearmancoff(df, y_test):\n",
    "    smr = 0\n",
    "    for i in range(df.shape[0]):\n",
    "        smr += stats.spearmanr(df.loc[i].values, y_test.loc[i].values)[0]\n",
    "    return smr/df.shape[0]\n"
   ]
  },
  {
   "cell_type": "code",
   "execution_count": 40,
   "id": "c2862545",
   "metadata": {
    "execution": {
     "iopub.execute_input": "2022-11-24T18:43:02.154264Z",
     "iopub.status.busy": "2022-11-24T18:43:02.153840Z",
     "iopub.status.idle": "2022-11-24T18:43:03.365658Z",
     "shell.execute_reply": "2022-11-24T18:43:03.363609Z"
    },
    "hidden": true,
    "papermill": {
     "duration": 1.263656,
     "end_time": "2022-11-24T18:43:03.367815",
     "exception": false,
     "start_time": "2022-11-24T18:43:02.104159",
     "status": "completed"
    },
    "tags": []
   },
   "outputs": [
    {
     "name": "stdout",
     "output_type": "stream",
     "text": [
      "Spearman's correlation coefficient:- 0.15682009853912557\n"
     ]
    }
   ],
   "source": [
    "Random_Pred = pd.DataFrame()\n",
    "for aspect in y_label_question_names+y_label_answer_names:\n",
    "    \n",
    "    ytrain_ = y_train[aspect].values\n",
    "    ytest_ = y_test[aspect].values\n",
    "    \n",
    "    ed = encoder_decoder()\n",
    "    ed.fit(ytrain_)\n",
    "    ytrain = ed.encode(ytrain_)\n",
    "    ytest = ed.encode(ytest_)\n",
    "\n",
    "    ypred = [random.choice(ed.unique_labels) for _ in range(len(ytest))]\n",
    "    Random_Pred[aspect] = ypred\n",
    "    \n",
    "print(\"Spearman's correlation coefficient:-\", spearmancoff(Random_Pred, y_test))"
   ]
  },
  {
   "cell_type": "code",
   "execution_count": 41,
   "id": "13dc30ff",
   "metadata": {
    "execution": {
     "iopub.execute_input": "2022-11-24T18:43:03.661801Z",
     "iopub.status.busy": "2022-11-24T18:43:03.661101Z",
     "iopub.status.idle": "2022-11-24T18:43:05.092860Z",
     "shell.execute_reply": "2022-11-24T18:43:05.091905Z"
    },
    "hidden": true,
    "papermill": {
     "duration": 1.487723,
     "end_time": "2022-11-24T18:43:05.098444",
     "exception": false,
     "start_time": "2022-11-24T18:43:03.610721",
     "status": "completed"
    },
    "tags": []
   },
   "outputs": [
    {
     "name": "stdout",
     "output_type": "stream",
     "text": [
      "Prediction Exists ...\n",
      "Spearman's correlation coefficient:- 0.7390010246698369\n"
     ]
    }
   ],
   "source": [
    "# pathPred = './'\n",
    "pathPred = '../input/google-quest-challenge-files/predictions'\n",
    "\n",
    "if not os.path.exists(os.path.join(pathPred, 'KNN_Pred.csv')):\n",
    "# if True:        \n",
    "    KNN_Pred = pd.DataFrame()\n",
    "    KNN_Summary = pd.DataFrame(columns=['aspect', 'Best Hyperparameter', 'f1_macro'])\n",
    "    for aspect in y_label_question_names+y_label_answer_names:\n",
    "    \n",
    "        ytrain_ = y_train[aspect].values\n",
    "        ytest_ = y_test[aspect].values\n",
    "        print(\"Model for aspect :\", aspect)\n",
    "\n",
    "        filename = f'KNN_{aspect}'\n",
    "\n",
    "        ed = encoder_decoder()\n",
    "        ed.fit(ytrain_)\n",
    "        ytrain = ed.encode(ytrain_)\n",
    "        ytest = ed.encode(ytest_)\n",
    "        \n",
    "#         path = './models'\n",
    "#         path = './'\n",
    "        path = '../input/google-quest-challenge-models'\n",
    "        if not os.path.exists(os.path.join(path,filename)):\n",
    "\n",
    "            parameters = {'n_neighbors':[x for x in range(3, 15, 2)]}\n",
    "            x_cfl = KNeighborsClassifier()\n",
    "            clf = GridSearchCV(x_cfl, parameters, n_jobs=4, scoring='f1_macro', cv=3, verbose=2, error_score=\"raise\")\n",
    "            \n",
    "            if 'question' in aspect:\n",
    "                clf.fit(X_train_A,ytrain)\n",
    "                predict_y = clf.predict(X_test_A)\n",
    "            else:\n",
    "                clf.fit(X_train_B,ytrain)\n",
    "                predict_y = clf.predict(X_test_B)\n",
    "\n",
    "            sig_clf = clf.best_estimator_\n",
    "\n",
    "            if 'question' in aspect:\n",
    "                sig_clf.fit(X_train_A, ytrain)\n",
    "            else:\n",
    "                sig_clf.fit(X_train_B, ytrain)\n",
    "\n",
    "            pickle.dump(sig_clf, open(os.path.join(path, filename), 'wb'))\n",
    "\n",
    "\n",
    "        else:\n",
    "            print(\"Model Exist! Loading ...\")\n",
    "            sig_clf = pickle.load(open(os.path.join(path,filename), 'rb'))\n",
    "\n",
    "        if 'question' in aspect:\n",
    "            result = sig_clf.predict(X_test_A)\n",
    "        else:\n",
    "            result = sig_clf.predict(X_test_B)\n",
    "        \n",
    "        KNN_Pred[aspect] = ed.decode(result) \n",
    "        KNN_Summary.loc[KNN_Summary.shape[0]] = [aspect, {'n_neighbors': sig_clf.get_params()['n_neighbors']}, f1_score(ytest, result, average='macro')]\n",
    "    \n",
    "    # print(KNN_Summary)\n",
    "    KNN_Pred.to_csv((os.path.join('./', 'KNN_Pred.csv')),index=False)\n",
    "    KNN_Summary.to_csv((os.path.join('./', 'KNN_Summary.csv')),index=False)\n",
    "else:\n",
    "    print(\"Prediction Exists ...\")\n",
    "    KNN_Pred = pd.read_csv(os.path.join(pathPred, 'KNN_Pred.csv'))\n",
    "    \n",
    "print(\"Spearman's correlation coefficient:-\", spearmancoff(KNN_Pred, y_test))"
   ]
  },
  {
   "cell_type": "code",
   "execution_count": 42,
   "id": "711859af",
   "metadata": {
    "execution": {
     "iopub.execute_input": "2022-11-24T18:43:05.409363Z",
     "iopub.status.busy": "2022-11-24T18:43:05.408765Z",
     "iopub.status.idle": "2022-11-24T18:43:05.432083Z",
     "shell.execute_reply": "2022-11-24T18:43:05.431201Z"
    },
    "hidden": true,
    "papermill": {
     "duration": 0.101492,
     "end_time": "2022-11-24T18:43:05.435045",
     "exception": false,
     "start_time": "2022-11-24T18:43:05.333553",
     "status": "completed"
    },
    "tags": []
   },
   "outputs": [
    {
     "data": {
      "text/html": [
       "<div>\n",
       "<style scoped>\n",
       "    .dataframe tbody tr th:only-of-type {\n",
       "        vertical-align: middle;\n",
       "    }\n",
       "\n",
       "    .dataframe tbody tr th {\n",
       "        vertical-align: top;\n",
       "    }\n",
       "\n",
       "    .dataframe thead th {\n",
       "        text-align: right;\n",
       "    }\n",
       "</style>\n",
       "<table border=\"1\" class=\"dataframe\">\n",
       "  <thead>\n",
       "    <tr style=\"text-align: right;\">\n",
       "      <th></th>\n",
       "      <th>aspect</th>\n",
       "      <th>Best Hyperparameter</th>\n",
       "      <th>f1_macro</th>\n",
       "    </tr>\n",
       "  </thead>\n",
       "  <tbody>\n",
       "    <tr>\n",
       "      <th>0</th>\n",
       "      <td>question_asker_intent_understanding</td>\n",
       "      <td>{'n_neighbors': 13}</td>\n",
       "      <td>0.109651</td>\n",
       "    </tr>\n",
       "    <tr>\n",
       "      <th>1</th>\n",
       "      <td>question_body_critical</td>\n",
       "      <td>{'n_neighbors': 11}</td>\n",
       "      <td>0.142898</td>\n",
       "    </tr>\n",
       "    <tr>\n",
       "      <th>2</th>\n",
       "      <td>question_conversational</td>\n",
       "      <td>{'n_neighbors': 7}</td>\n",
       "      <td>0.188980</td>\n",
       "    </tr>\n",
       "    <tr>\n",
       "      <th>3</th>\n",
       "      <td>question_expect_short_answer</td>\n",
       "      <td>{'n_neighbors': 11}</td>\n",
       "      <td>0.208309</td>\n",
       "    </tr>\n",
       "    <tr>\n",
       "      <th>4</th>\n",
       "      <td>question_fact_seeking</td>\n",
       "      <td>{'n_neighbors': 13}</td>\n",
       "      <td>0.202243</td>\n",
       "    </tr>\n",
       "    <tr>\n",
       "      <th>5</th>\n",
       "      <td>question_has_commonly_accepted_answer</td>\n",
       "      <td>{'n_neighbors': 11}</td>\n",
       "      <td>0.195741</td>\n",
       "    </tr>\n",
       "    <tr>\n",
       "      <th>6</th>\n",
       "      <td>question_interestingness_others</td>\n",
       "      <td>{'n_neighbors': 11}</td>\n",
       "      <td>0.109338</td>\n",
       "    </tr>\n",
       "    <tr>\n",
       "      <th>7</th>\n",
       "      <td>question_interestingness_self</td>\n",
       "      <td>{'n_neighbors': 3}</td>\n",
       "      <td>0.117947</td>\n",
       "    </tr>\n",
       "    <tr>\n",
       "      <th>8</th>\n",
       "      <td>question_multi_intent</td>\n",
       "      <td>{'n_neighbors': 13}</td>\n",
       "      <td>0.186395</td>\n",
       "    </tr>\n",
       "    <tr>\n",
       "      <th>9</th>\n",
       "      <td>question_not_really_a_question</td>\n",
       "      <td>{'n_neighbors': 3}</td>\n",
       "      <td>0.248344</td>\n",
       "    </tr>\n",
       "    <tr>\n",
       "      <th>10</th>\n",
       "      <td>question_opinion_seeking</td>\n",
       "      <td>{'n_neighbors': 13}</td>\n",
       "      <td>0.232449</td>\n",
       "    </tr>\n",
       "    <tr>\n",
       "      <th>11</th>\n",
       "      <td>question_type_choice</td>\n",
       "      <td>{'n_neighbors': 13}</td>\n",
       "      <td>0.169446</td>\n",
       "    </tr>\n",
       "    <tr>\n",
       "      <th>12</th>\n",
       "      <td>question_type_compare</td>\n",
       "      <td>{'n_neighbors': 7}</td>\n",
       "      <td>0.192314</td>\n",
       "    </tr>\n",
       "    <tr>\n",
       "      <th>13</th>\n",
       "      <td>question_type_consequence</td>\n",
       "      <td>{'n_neighbors': 3}</td>\n",
       "      <td>0.197755</td>\n",
       "    </tr>\n",
       "    <tr>\n",
       "      <th>14</th>\n",
       "      <td>question_type_definition</td>\n",
       "      <td>{'n_neighbors': 5}</td>\n",
       "      <td>0.194324</td>\n",
       "    </tr>\n",
       "    <tr>\n",
       "      <th>15</th>\n",
       "      <td>question_type_entity</td>\n",
       "      <td>{'n_neighbors': 11}</td>\n",
       "      <td>0.186561</td>\n",
       "    </tr>\n",
       "    <tr>\n",
       "      <th>16</th>\n",
       "      <td>question_type_instructions</td>\n",
       "      <td>{'n_neighbors': 13}</td>\n",
       "      <td>0.237854</td>\n",
       "    </tr>\n",
       "    <tr>\n",
       "      <th>17</th>\n",
       "      <td>question_type_procedure</td>\n",
       "      <td>{'n_neighbors': 13}</td>\n",
       "      <td>0.178367</td>\n",
       "    </tr>\n",
       "    <tr>\n",
       "      <th>18</th>\n",
       "      <td>question_type_reason_explanation</td>\n",
       "      <td>{'n_neighbors': 13}</td>\n",
       "      <td>0.221285</td>\n",
       "    </tr>\n",
       "    <tr>\n",
       "      <th>19</th>\n",
       "      <td>question_type_spelling</td>\n",
       "      <td>{'n_neighbors': 3}</td>\n",
       "      <td>0.499794</td>\n",
       "    </tr>\n",
       "    <tr>\n",
       "      <th>20</th>\n",
       "      <td>question_well_written</td>\n",
       "      <td>{'n_neighbors': 13}</td>\n",
       "      <td>0.132975</td>\n",
       "    </tr>\n",
       "    <tr>\n",
       "      <th>21</th>\n",
       "      <td>answer_helpful</td>\n",
       "      <td>{'n_neighbors': 13}</td>\n",
       "      <td>0.095208</td>\n",
       "    </tr>\n",
       "    <tr>\n",
       "      <th>22</th>\n",
       "      <td>answer_level_of_information</td>\n",
       "      <td>{'n_neighbors': 13}</td>\n",
       "      <td>0.126562</td>\n",
       "    </tr>\n",
       "    <tr>\n",
       "      <th>23</th>\n",
       "      <td>answer_plausible</td>\n",
       "      <td>{'n_neighbors': 7}</td>\n",
       "      <td>0.099867</td>\n",
       "    </tr>\n",
       "    <tr>\n",
       "      <th>24</th>\n",
       "      <td>answer_relevance</td>\n",
       "      <td>{'n_neighbors': 13}</td>\n",
       "      <td>0.100737</td>\n",
       "    </tr>\n",
       "    <tr>\n",
       "      <th>25</th>\n",
       "      <td>answer_satisfaction</td>\n",
       "      <td>{'n_neighbors': 11}</td>\n",
       "      <td>0.064221</td>\n",
       "    </tr>\n",
       "    <tr>\n",
       "      <th>26</th>\n",
       "      <td>answer_type_instructions</td>\n",
       "      <td>{'n_neighbors': 7}</td>\n",
       "      <td>0.246322</td>\n",
       "    </tr>\n",
       "    <tr>\n",
       "      <th>27</th>\n",
       "      <td>answer_type_procedure</td>\n",
       "      <td>{'n_neighbors': 11}</td>\n",
       "      <td>0.182063</td>\n",
       "    </tr>\n",
       "    <tr>\n",
       "      <th>28</th>\n",
       "      <td>answer_type_reason_explanation</td>\n",
       "      <td>{'n_neighbors': 9}</td>\n",
       "      <td>0.240864</td>\n",
       "    </tr>\n",
       "    <tr>\n",
       "      <th>29</th>\n",
       "      <td>answer_well_written</td>\n",
       "      <td>{'n_neighbors': 11}</td>\n",
       "      <td>0.141522</td>\n",
       "    </tr>\n",
       "  </tbody>\n",
       "</table>\n",
       "</div>"
      ],
      "text/plain": [
       "                                   aspect  Best Hyperparameter  f1_macro\n",
       "0     question_asker_intent_understanding  {'n_neighbors': 13}  0.109651\n",
       "1                  question_body_critical  {'n_neighbors': 11}  0.142898\n",
       "2                 question_conversational   {'n_neighbors': 7}  0.188980\n",
       "3            question_expect_short_answer  {'n_neighbors': 11}  0.208309\n",
       "4                   question_fact_seeking  {'n_neighbors': 13}  0.202243\n",
       "5   question_has_commonly_accepted_answer  {'n_neighbors': 11}  0.195741\n",
       "6         question_interestingness_others  {'n_neighbors': 11}  0.109338\n",
       "7           question_interestingness_self   {'n_neighbors': 3}  0.117947\n",
       "8                   question_multi_intent  {'n_neighbors': 13}  0.186395\n",
       "9          question_not_really_a_question   {'n_neighbors': 3}  0.248344\n",
       "10               question_opinion_seeking  {'n_neighbors': 13}  0.232449\n",
       "11                   question_type_choice  {'n_neighbors': 13}  0.169446\n",
       "12                  question_type_compare   {'n_neighbors': 7}  0.192314\n",
       "13              question_type_consequence   {'n_neighbors': 3}  0.197755\n",
       "14               question_type_definition   {'n_neighbors': 5}  0.194324\n",
       "15                   question_type_entity  {'n_neighbors': 11}  0.186561\n",
       "16             question_type_instructions  {'n_neighbors': 13}  0.237854\n",
       "17                question_type_procedure  {'n_neighbors': 13}  0.178367\n",
       "18       question_type_reason_explanation  {'n_neighbors': 13}  0.221285\n",
       "19                 question_type_spelling   {'n_neighbors': 3}  0.499794\n",
       "20                  question_well_written  {'n_neighbors': 13}  0.132975\n",
       "21                         answer_helpful  {'n_neighbors': 13}  0.095208\n",
       "22            answer_level_of_information  {'n_neighbors': 13}  0.126562\n",
       "23                       answer_plausible   {'n_neighbors': 7}  0.099867\n",
       "24                       answer_relevance  {'n_neighbors': 13}  0.100737\n",
       "25                    answer_satisfaction  {'n_neighbors': 11}  0.064221\n",
       "26               answer_type_instructions   {'n_neighbors': 7}  0.246322\n",
       "27                  answer_type_procedure  {'n_neighbors': 11}  0.182063\n",
       "28         answer_type_reason_explanation   {'n_neighbors': 9}  0.240864\n",
       "29                    answer_well_written  {'n_neighbors': 11}  0.141522"
      ]
     },
     "execution_count": 42,
     "metadata": {},
     "output_type": "execute_result"
    }
   ],
   "source": [
    "KNN_Summary = pd.read_csv(os.path.join(pathPred, 'KNN_Summary.csv'))\n",
    "KNN_Summary"
   ]
  },
  {
   "cell_type": "code",
   "execution_count": 43,
   "id": "3227a4e2",
   "metadata": {
    "execution": {
     "iopub.execute_input": "2022-11-24T18:43:05.664591Z",
     "iopub.status.busy": "2022-11-24T18:43:05.664203Z",
     "iopub.status.idle": "2022-11-24T18:43:06.761305Z",
     "shell.execute_reply": "2022-11-24T18:43:06.760070Z"
    },
    "hidden": true,
    "papermill": {
     "duration": 1.155564,
     "end_time": "2022-11-24T18:43:06.764100",
     "exception": false,
     "start_time": "2022-11-24T18:43:05.608536",
     "status": "completed"
    },
    "tags": []
   },
   "outputs": [
    {
     "name": "stdout",
     "output_type": "stream",
     "text": [
      "Prediction Exists ...\n",
      "Spearman's correlation coefficient:- 0.7524080005290991\n"
     ]
    }
   ],
   "source": [
    "# pathPred = './'\n",
    "pathPred = '../input/google-quest-challenge-files/predictions'\n",
    "\n",
    "if not os.path.exists(os.path.join(pathPred, 'LR_Pred.csv')):\n",
    "# if True:        \n",
    "    LR_Pred = pd.DataFrame()\n",
    "    LR_Summary = pd.DataFrame(columns=['aspect', 'Best Hyperparameter', 'f1_macro'])\n",
    "    for aspect in y_label_question_names+y_label_answer_names:\n",
    "    \n",
    "        ytrain_ = y_train[aspect].values\n",
    "        ytest_ = y_test[aspect].values\n",
    "        print(\"Model for aspect :\", aspect)\n",
    "\n",
    "        filename = f'LR_{aspect}'\n",
    "\n",
    "        ed = encoder_decoder()\n",
    "        ed.fit(ytrain_)\n",
    "        ytrain = ed.encode(ytrain_)\n",
    "        ytest = ed.encode(ytest_)\n",
    "        \n",
    "#         path = './models'\n",
    "        path = '../input/google-quest-challenge-models'\n",
    "        if not os.path.exists(os.path.join(path,filename)):\n",
    "\n",
    "            parameters = {'C': [10 ** x for x in range(-4,3)]}\n",
    "            x_cfl = LogisticRegression()\n",
    "            clf = GridSearchCV(x_cfl, parameters, n_jobs=4, scoring='f1_macro', cv=3, verbose=5, error_score=\"raise\")\n",
    "            \n",
    "            if 'question' in aspect:\n",
    "                clf.fit(X_train_A,ytrain)\n",
    "                predict_y = clf.predict(X_test_A)\n",
    "            else:\n",
    "                clf.fit(X_train_B,ytrain)\n",
    "                predict_y = clf.predict(X_test_B)\n",
    "\n",
    "            sig_clf = clf.best_estimator_\n",
    "\n",
    "            if 'question' in aspect:\n",
    "                sig_clf.fit(X_train_A, ytrain)\n",
    "            else:\n",
    "                sig_clf.fit(X_train_B, ytrain)\n",
    "\n",
    "            pickle.dump(sig_clf, open(os.path.join('./', filename), 'wb'))\n",
    "\n",
    "\n",
    "        else:\n",
    "            print(\"Model Exist! Loading ...\")\n",
    "            sig_clf = pickle.load(open(os.path.join(path,filename), 'rb'))\n",
    "\n",
    "        if 'question' in aspect:\n",
    "            result = sig_clf.predict(X_test_A)\n",
    "        else:\n",
    "            result = sig_clf.predict(X_test_B)\n",
    "        \n",
    "        LR_Pred[aspect] = ed.decode(result) \n",
    "        LR_Summary.loc[LR_Summary.shape[0]] = [aspect, {'C': sig_clf.get_params()['C']}, f1_score(ytest, result, average='macro')]\n",
    "\n",
    "    LR_Pred.to_csv((os.path.join(pathPred, 'LR_Pred.csv')),index=False)\n",
    "    LR_Summary.to_csv((os.path.join(pathPred, 'LR_Summary.csv')),index=False)\n",
    "else:\n",
    "    print(\"Prediction Exists ...\")\n",
    "    LR_Pred = pd.read_csv(os.path.join(pathPred, 'LR_Pred.csv'))\n",
    "    \n",
    "print(\"Spearman's correlation coefficient:-\", spearmancoff(LR_Pred, y_test))\n"
   ]
  },
  {
   "cell_type": "code",
   "execution_count": 44,
   "id": "80ccd1a1",
   "metadata": {
    "execution": {
     "iopub.execute_input": "2022-11-24T18:43:07.013149Z",
     "iopub.status.busy": "2022-11-24T18:43:07.012544Z",
     "iopub.status.idle": "2022-11-24T18:43:07.042783Z",
     "shell.execute_reply": "2022-11-24T18:43:07.041356Z"
    },
    "hidden": true,
    "papermill": {
     "duration": 0.129587,
     "end_time": "2022-11-24T18:43:07.045768",
     "exception": false,
     "start_time": "2022-11-24T18:43:06.916181",
     "status": "completed"
    },
    "tags": []
   },
   "outputs": [
    {
     "data": {
      "text/html": [
       "<div>\n",
       "<style scoped>\n",
       "    .dataframe tbody tr th:only-of-type {\n",
       "        vertical-align: middle;\n",
       "    }\n",
       "\n",
       "    .dataframe tbody tr th {\n",
       "        vertical-align: top;\n",
       "    }\n",
       "\n",
       "    .dataframe thead th {\n",
       "        text-align: right;\n",
       "    }\n",
       "</style>\n",
       "<table border=\"1\" class=\"dataframe\">\n",
       "  <thead>\n",
       "    <tr style=\"text-align: right;\">\n",
       "      <th></th>\n",
       "      <th>aspect</th>\n",
       "      <th>Best Hyperparameter</th>\n",
       "      <th>f1_macro</th>\n",
       "    </tr>\n",
       "  </thead>\n",
       "  <tbody>\n",
       "    <tr>\n",
       "      <th>0</th>\n",
       "      <td>question_asker_intent_understanding</td>\n",
       "      <td>{'C': 0.01}</td>\n",
       "      <td>0.088473</td>\n",
       "    </tr>\n",
       "    <tr>\n",
       "      <th>1</th>\n",
       "      <td>question_body_critical</td>\n",
       "      <td>{'C': 100}</td>\n",
       "      <td>0.109034</td>\n",
       "    </tr>\n",
       "    <tr>\n",
       "      <th>2</th>\n",
       "      <td>question_conversational</td>\n",
       "      <td>{'C': 1e-05}</td>\n",
       "      <td>0.189163</td>\n",
       "    </tr>\n",
       "    <tr>\n",
       "      <th>3</th>\n",
       "      <td>question_expect_short_answer</td>\n",
       "      <td>{'C': 1e-05}</td>\n",
       "      <td>0.161801</td>\n",
       "    </tr>\n",
       "    <tr>\n",
       "      <th>4</th>\n",
       "      <td>question_fact_seeking</td>\n",
       "      <td>{'C': 1e-05}</td>\n",
       "      <td>0.150879</td>\n",
       "    </tr>\n",
       "    <tr>\n",
       "      <th>5</th>\n",
       "      <td>question_has_commonly_accepted_answer</td>\n",
       "      <td>{'C': 0.01}</td>\n",
       "      <td>0.183272</td>\n",
       "    </tr>\n",
       "    <tr>\n",
       "      <th>6</th>\n",
       "      <td>question_interestingness_others</td>\n",
       "      <td>{'C': 1e-05}</td>\n",
       "      <td>0.084877</td>\n",
       "    </tr>\n",
       "    <tr>\n",
       "      <th>7</th>\n",
       "      <td>question_interestingness_self</td>\n",
       "      <td>{'C': 1}</td>\n",
       "      <td>0.067208</td>\n",
       "    </tr>\n",
       "    <tr>\n",
       "      <th>8</th>\n",
       "      <td>question_multi_intent</td>\n",
       "      <td>{'C': 0.001}</td>\n",
       "      <td>0.161301</td>\n",
       "    </tr>\n",
       "    <tr>\n",
       "      <th>9</th>\n",
       "      <td>question_not_really_a_question</td>\n",
       "      <td>{'C': 1e-05}</td>\n",
       "      <td>0.248344</td>\n",
       "    </tr>\n",
       "    <tr>\n",
       "      <th>10</th>\n",
       "      <td>question_opinion_seeking</td>\n",
       "      <td>{'C': 1e-05}</td>\n",
       "      <td>0.159947</td>\n",
       "    </tr>\n",
       "    <tr>\n",
       "      <th>11</th>\n",
       "      <td>question_type_choice</td>\n",
       "      <td>{'C': 1e-05}</td>\n",
       "      <td>0.146808</td>\n",
       "    </tr>\n",
       "    <tr>\n",
       "      <th>12</th>\n",
       "      <td>question_type_compare</td>\n",
       "      <td>{'C': 1e-05}</td>\n",
       "      <td>0.192403</td>\n",
       "    </tr>\n",
       "    <tr>\n",
       "      <th>13</th>\n",
       "      <td>question_type_consequence</td>\n",
       "      <td>{'C': 1e-05}</td>\n",
       "      <td>0.197839</td>\n",
       "    </tr>\n",
       "    <tr>\n",
       "      <th>14</th>\n",
       "      <td>question_type_definition</td>\n",
       "      <td>{'C': 10}</td>\n",
       "      <td>0.241316</td>\n",
       "    </tr>\n",
       "    <tr>\n",
       "      <th>15</th>\n",
       "      <td>question_type_entity</td>\n",
       "      <td>{'C': 1e-05}</td>\n",
       "      <td>0.186573</td>\n",
       "    </tr>\n",
       "    <tr>\n",
       "      <th>16</th>\n",
       "      <td>question_type_instructions</td>\n",
       "      <td>{'C': 0.001}</td>\n",
       "      <td>0.238557</td>\n",
       "    </tr>\n",
       "    <tr>\n",
       "      <th>17</th>\n",
       "      <td>question_type_procedure</td>\n",
       "      <td>{'C': 1e-05}</td>\n",
       "      <td>0.158445</td>\n",
       "    </tr>\n",
       "    <tr>\n",
       "      <th>18</th>\n",
       "      <td>question_type_reason_explanation</td>\n",
       "      <td>{'C': 100}</td>\n",
       "      <td>0.170326</td>\n",
       "    </tr>\n",
       "    <tr>\n",
       "      <th>19</th>\n",
       "      <td>question_type_spelling</td>\n",
       "      <td>{'C': 1e-05}</td>\n",
       "      <td>0.499794</td>\n",
       "    </tr>\n",
       "    <tr>\n",
       "      <th>20</th>\n",
       "      <td>question_well_written</td>\n",
       "      <td>{'C': 0.1}</td>\n",
       "      <td>0.075406</td>\n",
       "    </tr>\n",
       "    <tr>\n",
       "      <th>21</th>\n",
       "      <td>answer_helpful</td>\n",
       "      <td>{'C': 1e-05}</td>\n",
       "      <td>0.085288</td>\n",
       "    </tr>\n",
       "    <tr>\n",
       "      <th>22</th>\n",
       "      <td>answer_level_of_information</td>\n",
       "      <td>{'C': 1e-05}</td>\n",
       "      <td>0.097967</td>\n",
       "    </tr>\n",
       "    <tr>\n",
       "      <th>23</th>\n",
       "      <td>answer_plausible</td>\n",
       "      <td>{'C': 1e-05}</td>\n",
       "      <td>0.096303</td>\n",
       "    </tr>\n",
       "    <tr>\n",
       "      <th>24</th>\n",
       "      <td>answer_relevance</td>\n",
       "      <td>{'C': 1e-05}</td>\n",
       "      <td>0.099058</td>\n",
       "    </tr>\n",
       "    <tr>\n",
       "      <th>25</th>\n",
       "      <td>answer_satisfaction</td>\n",
       "      <td>{'C': 0.01}</td>\n",
       "      <td>0.046744</td>\n",
       "    </tr>\n",
       "    <tr>\n",
       "      <th>26</th>\n",
       "      <td>answer_type_instructions</td>\n",
       "      <td>{'C': 0.01}</td>\n",
       "      <td>0.229950</td>\n",
       "    </tr>\n",
       "    <tr>\n",
       "      <th>27</th>\n",
       "      <td>answer_type_procedure</td>\n",
       "      <td>{'C': 1e-05}</td>\n",
       "      <td>0.169541</td>\n",
       "    </tr>\n",
       "    <tr>\n",
       "      <th>28</th>\n",
       "      <td>answer_type_reason_explanation</td>\n",
       "      <td>{'C': 0.0001}</td>\n",
       "      <td>0.206415</td>\n",
       "    </tr>\n",
       "    <tr>\n",
       "      <th>29</th>\n",
       "      <td>answer_well_written</td>\n",
       "      <td>{'C': 1e-05}</td>\n",
       "      <td>0.092590</td>\n",
       "    </tr>\n",
       "  </tbody>\n",
       "</table>\n",
       "</div>"
      ],
      "text/plain": [
       "                                   aspect Best Hyperparameter  f1_macro\n",
       "0     question_asker_intent_understanding         {'C': 0.01}  0.088473\n",
       "1                  question_body_critical          {'C': 100}  0.109034\n",
       "2                 question_conversational        {'C': 1e-05}  0.189163\n",
       "3            question_expect_short_answer        {'C': 1e-05}  0.161801\n",
       "4                   question_fact_seeking        {'C': 1e-05}  0.150879\n",
       "5   question_has_commonly_accepted_answer         {'C': 0.01}  0.183272\n",
       "6         question_interestingness_others        {'C': 1e-05}  0.084877\n",
       "7           question_interestingness_self            {'C': 1}  0.067208\n",
       "8                   question_multi_intent        {'C': 0.001}  0.161301\n",
       "9          question_not_really_a_question        {'C': 1e-05}  0.248344\n",
       "10               question_opinion_seeking        {'C': 1e-05}  0.159947\n",
       "11                   question_type_choice        {'C': 1e-05}  0.146808\n",
       "12                  question_type_compare        {'C': 1e-05}  0.192403\n",
       "13              question_type_consequence        {'C': 1e-05}  0.197839\n",
       "14               question_type_definition           {'C': 10}  0.241316\n",
       "15                   question_type_entity        {'C': 1e-05}  0.186573\n",
       "16             question_type_instructions        {'C': 0.001}  0.238557\n",
       "17                question_type_procedure        {'C': 1e-05}  0.158445\n",
       "18       question_type_reason_explanation          {'C': 100}  0.170326\n",
       "19                 question_type_spelling        {'C': 1e-05}  0.499794\n",
       "20                  question_well_written          {'C': 0.1}  0.075406\n",
       "21                         answer_helpful        {'C': 1e-05}  0.085288\n",
       "22            answer_level_of_information        {'C': 1e-05}  0.097967\n",
       "23                       answer_plausible        {'C': 1e-05}  0.096303\n",
       "24                       answer_relevance        {'C': 1e-05}  0.099058\n",
       "25                    answer_satisfaction         {'C': 0.01}  0.046744\n",
       "26               answer_type_instructions         {'C': 0.01}  0.229950\n",
       "27                  answer_type_procedure        {'C': 1e-05}  0.169541\n",
       "28         answer_type_reason_explanation       {'C': 0.0001}  0.206415\n",
       "29                    answer_well_written        {'C': 1e-05}  0.092590"
      ]
     },
     "execution_count": 44,
     "metadata": {},
     "output_type": "execute_result"
    }
   ],
   "source": [
    "LR_Summary = pd.read_csv(os.path.join(pathPred, 'LR_Summary.csv'))\n",
    "LR_Summary"
   ]
  },
  {
   "cell_type": "code",
   "execution_count": 45,
   "id": "0f0db253",
   "metadata": {
    "execution": {
     "iopub.execute_input": "2022-11-24T18:43:07.356775Z",
     "iopub.status.busy": "2022-11-24T18:43:07.356434Z",
     "iopub.status.idle": "2022-11-24T18:43:08.538543Z",
     "shell.execute_reply": "2022-11-24T18:43:08.537364Z"
    },
    "hidden": true,
    "papermill": {
     "duration": 1.26013,
     "end_time": "2022-11-24T18:43:08.541160",
     "exception": false,
     "start_time": "2022-11-24T18:43:07.281030",
     "status": "completed"
    },
    "tags": []
   },
   "outputs": [
    {
     "name": "stdout",
     "output_type": "stream",
     "text": [
      "Prediction Exists ...\n",
      "Spearman's correlation coefficient:- 0.797911547534578\n"
     ]
    }
   ],
   "source": [
    "# pathPred = './'\n",
    "pathPred = '../input/google-quest-challenge-files/predictions'\n",
    "\n",
    "if not os.path.exists(os.path.join(pathPred, 'RF_Pred.csv')):      \n",
    "    RF_Pred = pd.DataFrame()\n",
    "    RF_Summary = pd.DataFrame(columns=['aspect', 'Best Hyperparameter', 'f1_macro'])\n",
    "    \n",
    "    for aspect in y_label_question_names+y_label_answer_names:\n",
    "    \n",
    "        ytrain_ = y_train[aspect].values\n",
    "        ytest_ = y_test[aspect].values\n",
    "        print(\"Model for aspect :\", aspect)\n",
    "\n",
    "        filename = f'RF_{aspect}'\n",
    "\n",
    "        ed = encoder_decoder()\n",
    "        ed.fit(ytrain_)\n",
    "        ytrain = ed.encode(ytrain_)\n",
    "        ytest = ed.encode(ytest_)\n",
    "        \n",
    "#         path = './models'\n",
    "        path = '../input/google-quest-challenge-models'\n",
    "        if not os.path.exists(os.path.join(path,filename)):\n",
    "\n",
    "            parameters = { 'n_estimators': [10,50,100,500,1000], 'max_depth': [50,100,200,500,1000]}\n",
    "            x_cfl = RandomForestClassifier(n_jobs=-1)\n",
    "            clf = GridSearchCV(x_cfl, parameters, n_jobs=4, scoring='f1_macro', cv=3, verbose=5, error_score=\"raise\")\n",
    "\n",
    "            if 'question' in aspect:\n",
    "                clf.fit(X_train_A,ytrain)\n",
    "                predict_y = clf.predict(X_test_A)\n",
    "            else:\n",
    "                clf.fit(X_train_B,ytrain)\n",
    "                predict_y = clf.predict(X_test_B)\n",
    "\n",
    "            sig_clf = clf.best_estimator_\n",
    "\n",
    "            if 'question' in aspect:\n",
    "                sig_clf.fit(X_train_A, ytrain)\n",
    "            else:\n",
    "                sig_clf.fit(X_train_B, ytrain)\n",
    "\n",
    "            pickle.dump(sig_clf, open(os.path.join(path, filename), 'wb'))\n",
    "\n",
    "        else:\n",
    "            print(\"Model Exist! Loading ...\")\n",
    "            sig_clf = pickle.load(open(os.path.join(path,filename), 'rb'))\n",
    "\n",
    "        if 'question' in aspect:\n",
    "            result = sig_clf.predict(X_test_A)\n",
    "        else:\n",
    "            result = sig_clf.predict(X_test_B)\n",
    "        \n",
    "        RF_Pred[aspect] = ed.decode(result) \n",
    "        RF_Summary.loc[RF_Summary.shape[0]] = [aspect, str({'n_estimators': sig_clf.get_params()['n_estimators'], 'max_depth': sig_clf.get_params()['max_depth']}), f1_score(ytest, result, average='macro')]\n",
    "        \n",
    "    RF_Pred.to_csv((os.path.join(pathPred, 'RF_Pred.csv')),index=False)\n",
    "    RF_Summary.to_csv((os.path.join(pathPred, 'RF_Summary.csv')),index=False)\n",
    "else:\n",
    "    print(\"Prediction Exists ...\")\n",
    "    RF_Pred = pd.read_csv(os.path.join(pathPred, 'RF_Pred.csv'))\n",
    "    \n",
    "print(\"Spearman's correlation coefficient:-\", spearmancoff(RF_Pred, y_test))\n",
    "\n"
   ]
  },
  {
   "cell_type": "code",
   "execution_count": 46,
   "id": "28f04763",
   "metadata": {
    "execution": {
     "iopub.execute_input": "2022-11-24T18:43:08.742436Z",
     "iopub.status.busy": "2022-11-24T18:43:08.741743Z",
     "iopub.status.idle": "2022-11-24T18:43:08.759824Z",
     "shell.execute_reply": "2022-11-24T18:43:08.758586Z"
    },
    "hidden": true,
    "papermill": {
     "duration": 0.071322,
     "end_time": "2022-11-24T18:43:08.762505",
     "exception": false,
     "start_time": "2022-11-24T18:43:08.691183",
     "status": "completed"
    },
    "tags": []
   },
   "outputs": [
    {
     "data": {
      "text/html": [
       "<div>\n",
       "<style scoped>\n",
       "    .dataframe tbody tr th:only-of-type {\n",
       "        vertical-align: middle;\n",
       "    }\n",
       "\n",
       "    .dataframe tbody tr th {\n",
       "        vertical-align: top;\n",
       "    }\n",
       "\n",
       "    .dataframe thead th {\n",
       "        text-align: right;\n",
       "    }\n",
       "</style>\n",
       "<table border=\"1\" class=\"dataframe\">\n",
       "  <thead>\n",
       "    <tr style=\"text-align: right;\">\n",
       "      <th></th>\n",
       "      <th>aspect</th>\n",
       "      <th>Best Hyperparameter</th>\n",
       "      <th>mean_f1_macro</th>\n",
       "    </tr>\n",
       "  </thead>\n",
       "  <tbody>\n",
       "    <tr>\n",
       "      <th>0</th>\n",
       "      <td>question_asker_intent_understanding</td>\n",
       "      <td>{'n_estimators': 100, 'max_depth': 10}</td>\n",
       "      <td>0.070412</td>\n",
       "    </tr>\n",
       "    <tr>\n",
       "      <th>1</th>\n",
       "      <td>question_body_critical</td>\n",
       "      <td>{'n_estimators': 1000, 'max_depth': 1000}</td>\n",
       "      <td>0.204072</td>\n",
       "    </tr>\n",
       "    <tr>\n",
       "      <th>2</th>\n",
       "      <td>question_conversational</td>\n",
       "      <td>{'n_estimators': 1000, 'max_depth': 10}</td>\n",
       "      <td>0.203029</td>\n",
       "    </tr>\n",
       "    <tr>\n",
       "      <th>3</th>\n",
       "      <td>question_expect_short_answer</td>\n",
       "      <td>{'n_estimators': 500, 'max_depth': 50}</td>\n",
       "      <td>0.212890</td>\n",
       "    </tr>\n",
       "    <tr>\n",
       "      <th>4</th>\n",
       "      <td>question_fact_seeking</td>\n",
       "      <td>{'n_estimators': 500, 'max_depth': 50}</td>\n",
       "      <td>0.232296</td>\n",
       "    </tr>\n",
       "    <tr>\n",
       "      <th>5</th>\n",
       "      <td>question_has_commonly_accepted_answer</td>\n",
       "      <td>{'n_estimators': 500, 'max_depth': 100}</td>\n",
       "      <td>0.289682</td>\n",
       "    </tr>\n",
       "    <tr>\n",
       "      <th>6</th>\n",
       "      <td>question_interestingness_others</td>\n",
       "      <td>{'n_estimators': 50, 'max_depth': 10}</td>\n",
       "      <td>0.081564</td>\n",
       "    </tr>\n",
       "    <tr>\n",
       "      <th>7</th>\n",
       "      <td>question_interestingness_self</td>\n",
       "      <td>{'n_estimators': 500, 'max_depth': 50}</td>\n",
       "      <td>0.167667</td>\n",
       "    </tr>\n",
       "    <tr>\n",
       "      <th>8</th>\n",
       "      <td>question_multi_intent</td>\n",
       "      <td>{'n_estimators': 1000, 'max_depth': 1000}</td>\n",
       "      <td>0.287905</td>\n",
       "    </tr>\n",
       "    <tr>\n",
       "      <th>9</th>\n",
       "      <td>question_not_really_a_question</td>\n",
       "      <td>{'n_estimators': 500, 'max_depth': 50}</td>\n",
       "      <td>0.277545</td>\n",
       "    </tr>\n",
       "    <tr>\n",
       "      <th>10</th>\n",
       "      <td>question_opinion_seeking</td>\n",
       "      <td>{'n_estimators': 500, 'max_depth': 500}</td>\n",
       "      <td>0.344903</td>\n",
       "    </tr>\n",
       "    <tr>\n",
       "      <th>11</th>\n",
       "      <td>question_type_choice</td>\n",
       "      <td>{'n_estimators': 1000, 'max_depth': 2000}</td>\n",
       "      <td>0.343209</td>\n",
       "    </tr>\n",
       "    <tr>\n",
       "      <th>12</th>\n",
       "      <td>question_type_compare</td>\n",
       "      <td>{'n_estimators': 100, 'max_depth': 10}</td>\n",
       "      <td>0.192396</td>\n",
       "    </tr>\n",
       "    <tr>\n",
       "      <th>13</th>\n",
       "      <td>question_type_consequence</td>\n",
       "      <td>{'n_estimators': 100, 'max_depth': 10}</td>\n",
       "      <td>0.197755</td>\n",
       "    </tr>\n",
       "    <tr>\n",
       "      <th>14</th>\n",
       "      <td>question_type_definition</td>\n",
       "      <td>{'n_estimators': 100, 'max_depth': 50}</td>\n",
       "      <td>0.224407</td>\n",
       "    </tr>\n",
       "    <tr>\n",
       "      <th>15</th>\n",
       "      <td>question_type_entity</td>\n",
       "      <td>{'n_estimators': 1000, 'max_depth': 100}</td>\n",
       "      <td>0.271351</td>\n",
       "    </tr>\n",
       "    <tr>\n",
       "      <th>16</th>\n",
       "      <td>question_type_instructions</td>\n",
       "      <td>{'n_estimators': 1000, 'max_depth': 500}</td>\n",
       "      <td>0.370598</td>\n",
       "    </tr>\n",
       "    <tr>\n",
       "      <th>17</th>\n",
       "      <td>question_type_procedure</td>\n",
       "      <td>{'n_estimators': 100, 'max_depth': 10}</td>\n",
       "      <td>0.167101</td>\n",
       "    </tr>\n",
       "    <tr>\n",
       "      <th>18</th>\n",
       "      <td>question_type_reason_explanation</td>\n",
       "      <td>{'n_estimators': 100, 'max_depth': 2000}</td>\n",
       "      <td>0.305433</td>\n",
       "    </tr>\n",
       "    <tr>\n",
       "      <th>19</th>\n",
       "      <td>question_type_spelling</td>\n",
       "      <td>{'n_estimators': 1000, 'max_depth': 10}</td>\n",
       "      <td>0.499794</td>\n",
       "    </tr>\n",
       "    <tr>\n",
       "      <th>20</th>\n",
       "      <td>question_well_written</td>\n",
       "      <td>{'n_estimators': 100, 'max_depth': 3000}</td>\n",
       "      <td>0.190052</td>\n",
       "    </tr>\n",
       "    <tr>\n",
       "      <th>21</th>\n",
       "      <td>answer_helpful</td>\n",
       "      <td>{'n_estimators': 500, 'max_depth': 10}</td>\n",
       "      <td>0.084564</td>\n",
       "    </tr>\n",
       "    <tr>\n",
       "      <th>22</th>\n",
       "      <td>answer_level_of_information</td>\n",
       "      <td>{'n_estimators': 50, 'max_depth': 10}</td>\n",
       "      <td>0.089825</td>\n",
       "    </tr>\n",
       "    <tr>\n",
       "      <th>23</th>\n",
       "      <td>answer_plausible</td>\n",
       "      <td>{'n_estimators': 100, 'max_depth': 10}</td>\n",
       "      <td>0.096420</td>\n",
       "    </tr>\n",
       "    <tr>\n",
       "      <th>24</th>\n",
       "      <td>answer_relevance</td>\n",
       "      <td>{'n_estimators': 100, 'max_depth': 10}</td>\n",
       "      <td>0.099170</td>\n",
       "    </tr>\n",
       "    <tr>\n",
       "      <th>25</th>\n",
       "      <td>answer_satisfaction</td>\n",
       "      <td>{'n_estimators': 100, 'max_depth': 50}</td>\n",
       "      <td>0.048671</td>\n",
       "    </tr>\n",
       "    <tr>\n",
       "      <th>26</th>\n",
       "      <td>answer_type_instructions</td>\n",
       "      <td>{'n_estimators': 1000, 'max_depth': 3000}</td>\n",
       "      <td>0.254133</td>\n",
       "    </tr>\n",
       "    <tr>\n",
       "      <th>27</th>\n",
       "      <td>answer_type_procedure</td>\n",
       "      <td>{'n_estimators': 100, 'max_depth': 10}</td>\n",
       "      <td>0.166715</td>\n",
       "    </tr>\n",
       "    <tr>\n",
       "      <th>28</th>\n",
       "      <td>answer_type_reason_explanation</td>\n",
       "      <td>{'n_estimators': 1000, 'max_depth': 100}</td>\n",
       "      <td>0.225812</td>\n",
       "    </tr>\n",
       "    <tr>\n",
       "      <th>29</th>\n",
       "      <td>answer_well_written</td>\n",
       "      <td>{'n_estimators': 100, 'max_depth': 1000}</td>\n",
       "      <td>0.125261</td>\n",
       "    </tr>\n",
       "  </tbody>\n",
       "</table>\n",
       "</div>"
      ],
      "text/plain": [
       "                                   aspect  \\\n",
       "0     question_asker_intent_understanding   \n",
       "1                  question_body_critical   \n",
       "2                 question_conversational   \n",
       "3            question_expect_short_answer   \n",
       "4                   question_fact_seeking   \n",
       "5   question_has_commonly_accepted_answer   \n",
       "6         question_interestingness_others   \n",
       "7           question_interestingness_self   \n",
       "8                   question_multi_intent   \n",
       "9          question_not_really_a_question   \n",
       "10               question_opinion_seeking   \n",
       "11                   question_type_choice   \n",
       "12                  question_type_compare   \n",
       "13              question_type_consequence   \n",
       "14               question_type_definition   \n",
       "15                   question_type_entity   \n",
       "16             question_type_instructions   \n",
       "17                question_type_procedure   \n",
       "18       question_type_reason_explanation   \n",
       "19                 question_type_spelling   \n",
       "20                  question_well_written   \n",
       "21                         answer_helpful   \n",
       "22            answer_level_of_information   \n",
       "23                       answer_plausible   \n",
       "24                       answer_relevance   \n",
       "25                    answer_satisfaction   \n",
       "26               answer_type_instructions   \n",
       "27                  answer_type_procedure   \n",
       "28         answer_type_reason_explanation   \n",
       "29                    answer_well_written   \n",
       "\n",
       "                          Best Hyperparameter  mean_f1_macro  \n",
       "0      {'n_estimators': 100, 'max_depth': 10}       0.070412  \n",
       "1   {'n_estimators': 1000, 'max_depth': 1000}       0.204072  \n",
       "2     {'n_estimators': 1000, 'max_depth': 10}       0.203029  \n",
       "3      {'n_estimators': 500, 'max_depth': 50}       0.212890  \n",
       "4      {'n_estimators': 500, 'max_depth': 50}       0.232296  \n",
       "5     {'n_estimators': 500, 'max_depth': 100}       0.289682  \n",
       "6       {'n_estimators': 50, 'max_depth': 10}       0.081564  \n",
       "7      {'n_estimators': 500, 'max_depth': 50}       0.167667  \n",
       "8   {'n_estimators': 1000, 'max_depth': 1000}       0.287905  \n",
       "9      {'n_estimators': 500, 'max_depth': 50}       0.277545  \n",
       "10    {'n_estimators': 500, 'max_depth': 500}       0.344903  \n",
       "11  {'n_estimators': 1000, 'max_depth': 2000}       0.343209  \n",
       "12     {'n_estimators': 100, 'max_depth': 10}       0.192396  \n",
       "13     {'n_estimators': 100, 'max_depth': 10}       0.197755  \n",
       "14     {'n_estimators': 100, 'max_depth': 50}       0.224407  \n",
       "15   {'n_estimators': 1000, 'max_depth': 100}       0.271351  \n",
       "16   {'n_estimators': 1000, 'max_depth': 500}       0.370598  \n",
       "17     {'n_estimators': 100, 'max_depth': 10}       0.167101  \n",
       "18   {'n_estimators': 100, 'max_depth': 2000}       0.305433  \n",
       "19    {'n_estimators': 1000, 'max_depth': 10}       0.499794  \n",
       "20   {'n_estimators': 100, 'max_depth': 3000}       0.190052  \n",
       "21     {'n_estimators': 500, 'max_depth': 10}       0.084564  \n",
       "22      {'n_estimators': 50, 'max_depth': 10}       0.089825  \n",
       "23     {'n_estimators': 100, 'max_depth': 10}       0.096420  \n",
       "24     {'n_estimators': 100, 'max_depth': 10}       0.099170  \n",
       "25     {'n_estimators': 100, 'max_depth': 50}       0.048671  \n",
       "26  {'n_estimators': 1000, 'max_depth': 3000}       0.254133  \n",
       "27     {'n_estimators': 100, 'max_depth': 10}       0.166715  \n",
       "28   {'n_estimators': 1000, 'max_depth': 100}       0.225812  \n",
       "29   {'n_estimators': 100, 'max_depth': 1000}       0.125261  "
      ]
     },
     "execution_count": 46,
     "metadata": {},
     "output_type": "execute_result"
    }
   ],
   "source": [
    "RF_Summary = pd.read_csv(os.path.join(pathPred, 'RF_Summary.csv'))\n",
    "RF_Summary"
   ]
  },
  {
   "cell_type": "code",
   "execution_count": 47,
   "id": "c8b345af",
   "metadata": {
    "execution": {
     "iopub.execute_input": "2022-11-24T18:43:08.968286Z",
     "iopub.status.busy": "2022-11-24T18:43:08.967948Z",
     "iopub.status.idle": "2022-11-24T18:43:10.079049Z",
     "shell.execute_reply": "2022-11-24T18:43:10.077606Z"
    },
    "hidden": true,
    "papermill": {
     "duration": 1.164618,
     "end_time": "2022-11-24T18:43:10.081680",
     "exception": false,
     "start_time": "2022-11-24T18:43:08.917062",
     "status": "completed"
    },
    "tags": []
   },
   "outputs": [
    {
     "name": "stdout",
     "output_type": "stream",
     "text": [
      "Prediction Exists ...\n",
      "Spearman's correlation coefficient:- 0.797911547534578\n"
     ]
    }
   ],
   "source": [
    "# pathPred = './'\n",
    "pathPred = '../input/google-quest-challenge-files/predictions'\n",
    "\n",
    "if not os.path.exists(os.path.join(pathPred, 'XGB_Pred.csv')):\n",
    "# if True:        \n",
    "    XGB_Pred = pd.DataFrame()\n",
    "    XGB_Summary = pd.DataFrame(columns=['aspect', 'Best Hyperparameter', 'f1_macro'])\n",
    "    \n",
    "    for aspect in y_label_question_names+y_label_answer_names:\n",
    "    \n",
    "        ytrain_ = y_train[aspect].values\n",
    "        ytest_ = y_test[aspect].values\n",
    "        print(\"Model for aspect :\", aspect)\n",
    "\n",
    "        filename = f'RF_{aspect}'\n",
    "\n",
    "        ed = encoder_decoder()\n",
    "        ed.fit(ytrain_)\n",
    "        ytrain = ed.encode(ytrain_)\n",
    "        ytest = ed.encode(ytest_)\n",
    "        \n",
    "#         path = './models'\n",
    "        path = '../input/google-quest-challenge-models'\n",
    "        if not os.path.exists(os.path.join(path,filename)):\n",
    "\n",
    "            parameters = { 'n_estimators': [10,50,100,500,1000], 'max_depth': [50,100,200]}\n",
    "            x_cfl = XGBClassifier(nthread=-1, eval_metric='mlogloss', tree_method= 'gpu_hist')\n",
    "            clf = GridSearchCV(x_cfl, parameters, n_jobs=4, scoring='f1_macro', cv=3, verbose=5, error_score=\"raise\")\n",
    "\n",
    "            if 'question' in aspect:\n",
    "                clf.fit(X_train_A,ytrain)\n",
    "                predict_y = clf.predict(X_test_A)\n",
    "            else:\n",
    "                clf.fit(X_train_B,ytrain)\n",
    "                predict_y = clf.predict(X_test_B)\n",
    "\n",
    "            sig_clf = clf.best_estimator_\n",
    "\n",
    "            if 'question' in aspect:\n",
    "                sig_clf.fit(X_train_A, ytrain)\n",
    "            else:\n",
    "                sig_clf.fit(X_train_B, ytrain)\n",
    "\n",
    "            pickle.dump(sig_clf, open(os.path.join(path, filename), 'wb'))\n",
    "\n",
    "\n",
    "        else:\n",
    "            print(\"Model Exist! Loading ...\")\n",
    "            sig_clf = pickle.load(open(os.path.join(path,filename), 'rb'))\n",
    "\n",
    "        if 'question' in aspect:\n",
    "            result = sig_clf.predict(X_test_A)\n",
    "        else:\n",
    "            result = sig_clf.predict(X_test_B)\n",
    "        \n",
    "        XGB_Pred[aspect] = ed.decode(result) \n",
    "        XGB_Summary.loc[XGB_Summary.shape[0]] = [aspect, str({'n_estimators': sig_clf.get_params()['n_estimators'], 'max_depth': sig_clf.get_params()['max_depth']}), f1_score(ytest, result, average='macro')]\n",
    "        \n",
    "    XGB_Pred.to_csv((os.path.join(pathPred, 'XGB_Pred.csv')),index=False)\n",
    "    XGB_Summary.to_csv((os.path.join(pathPred, 'XGB_Summary.csv')),index=False)\n",
    "else:\n",
    "    print(\"Prediction Exists ...\")\n",
    "    XGB_Pred = pd.read_csv(os.path.join(pathPred, 'XGB_Pred.csv'))\n",
    "    \n",
    "print(\"Spearman's correlation coefficient:-\", spearmancoff(RF_Pred, y_test))\n",
    "\n"
   ]
  },
  {
   "cell_type": "code",
   "execution_count": 48,
   "id": "06a60e35",
   "metadata": {
    "execution": {
     "iopub.execute_input": "2022-11-24T18:43:10.186678Z",
     "iopub.status.busy": "2022-11-24T18:43:10.185661Z",
     "iopub.status.idle": "2022-11-24T18:43:10.203383Z",
     "shell.execute_reply": "2022-11-24T18:43:10.202453Z"
    },
    "hidden": true,
    "papermill": {
     "duration": 0.070789,
     "end_time": "2022-11-24T18:43:10.205789",
     "exception": false,
     "start_time": "2022-11-24T18:43:10.135000",
     "status": "completed"
    },
    "tags": []
   },
   "outputs": [
    {
     "data": {
      "text/html": [
       "<div>\n",
       "<style scoped>\n",
       "    .dataframe tbody tr th:only-of-type {\n",
       "        vertical-align: middle;\n",
       "    }\n",
       "\n",
       "    .dataframe tbody tr th {\n",
       "        vertical-align: top;\n",
       "    }\n",
       "\n",
       "    .dataframe thead th {\n",
       "        text-align: right;\n",
       "    }\n",
       "</style>\n",
       "<table border=\"1\" class=\"dataframe\">\n",
       "  <thead>\n",
       "    <tr style=\"text-align: right;\">\n",
       "      <th></th>\n",
       "      <th>aspect</th>\n",
       "      <th>Best Hyperparameter</th>\n",
       "      <th>f1_macro</th>\n",
       "    </tr>\n",
       "  </thead>\n",
       "  <tbody>\n",
       "    <tr>\n",
       "      <th>0</th>\n",
       "      <td>question_asker_intent_understanding</td>\n",
       "      <td>{'n_estimators': 100, 'max_depth': 10}</td>\n",
       "      <td>0.070412</td>\n",
       "    </tr>\n",
       "    <tr>\n",
       "      <th>1</th>\n",
       "      <td>question_body_critical</td>\n",
       "      <td>{'n_estimators': 500, 'max_depth': 1000}</td>\n",
       "      <td>0.204072</td>\n",
       "    </tr>\n",
       "    <tr>\n",
       "      <th>2</th>\n",
       "      <td>question_conversational</td>\n",
       "      <td>{'n_estimators': 500, 'max_depth': 10}</td>\n",
       "      <td>0.203029</td>\n",
       "    </tr>\n",
       "    <tr>\n",
       "      <th>3</th>\n",
       "      <td>question_expect_short_answer</td>\n",
       "      <td>{'n_estimators': 500, 'max_depth': 50}</td>\n",
       "      <td>0.212890</td>\n",
       "    </tr>\n",
       "    <tr>\n",
       "      <th>4</th>\n",
       "      <td>question_fact_seeking</td>\n",
       "      <td>{'n_estimators': 1000, 'max_depth': 50}</td>\n",
       "      <td>0.232296</td>\n",
       "    </tr>\n",
       "    <tr>\n",
       "      <th>5</th>\n",
       "      <td>question_has_commonly_accepted_answer</td>\n",
       "      <td>{'n_estimators': 1000, 'max_depth': 100}</td>\n",
       "      <td>0.289682</td>\n",
       "    </tr>\n",
       "    <tr>\n",
       "      <th>6</th>\n",
       "      <td>question_interestingness_others</td>\n",
       "      <td>{'n_estimators': 50, 'max_depth': 10}</td>\n",
       "      <td>0.081564</td>\n",
       "    </tr>\n",
       "    <tr>\n",
       "      <th>7</th>\n",
       "      <td>question_interestingness_self</td>\n",
       "      <td>{'n_estimators': 100, 'max_depth': 50}</td>\n",
       "      <td>0.167667</td>\n",
       "    </tr>\n",
       "    <tr>\n",
       "      <th>8</th>\n",
       "      <td>question_multi_intent</td>\n",
       "      <td>{'n_estimators': 500, 'max_depth': 1000}</td>\n",
       "      <td>0.287905</td>\n",
       "    </tr>\n",
       "    <tr>\n",
       "      <th>9</th>\n",
       "      <td>question_not_really_a_question</td>\n",
       "      <td>{'n_estimators': 500, 'max_depth': 50}</td>\n",
       "      <td>0.277545</td>\n",
       "    </tr>\n",
       "    <tr>\n",
       "      <th>10</th>\n",
       "      <td>question_opinion_seeking</td>\n",
       "      <td>{'n_estimators': 1000, 'max_depth': 500}</td>\n",
       "      <td>0.344903</td>\n",
       "    </tr>\n",
       "    <tr>\n",
       "      <th>11</th>\n",
       "      <td>question_type_choice</td>\n",
       "      <td>{'n_estimators': 500, 'max_depth': 2000}</td>\n",
       "      <td>0.343209</td>\n",
       "    </tr>\n",
       "    <tr>\n",
       "      <th>12</th>\n",
       "      <td>question_type_compare</td>\n",
       "      <td>{'n_estimators': 100, 'max_depth': 10}</td>\n",
       "      <td>0.192396</td>\n",
       "    </tr>\n",
       "    <tr>\n",
       "      <th>13</th>\n",
       "      <td>question_type_consequence</td>\n",
       "      <td>{'n_estimators': 100, 'max_depth': 10}</td>\n",
       "      <td>0.197755</td>\n",
       "    </tr>\n",
       "    <tr>\n",
       "      <th>14</th>\n",
       "      <td>question_type_definition</td>\n",
       "      <td>{'n_estimators': 100, 'max_depth': 50}</td>\n",
       "      <td>0.224407</td>\n",
       "    </tr>\n",
       "    <tr>\n",
       "      <th>15</th>\n",
       "      <td>question_type_entity</td>\n",
       "      <td>{'n_estimators': 500, 'max_depth': 100}</td>\n",
       "      <td>0.271351</td>\n",
       "    </tr>\n",
       "    <tr>\n",
       "      <th>16</th>\n",
       "      <td>question_type_instructions</td>\n",
       "      <td>{'n_estimators': 1000, 'max_depth': 500}</td>\n",
       "      <td>0.370598</td>\n",
       "    </tr>\n",
       "    <tr>\n",
       "      <th>17</th>\n",
       "      <td>question_type_procedure</td>\n",
       "      <td>{'n_estimators': 100, 'max_depth': 10}</td>\n",
       "      <td>0.167101</td>\n",
       "    </tr>\n",
       "    <tr>\n",
       "      <th>18</th>\n",
       "      <td>question_type_reason_explanation</td>\n",
       "      <td>{'n_estimators': 1000, 'max_depth': 2000}</td>\n",
       "      <td>0.305433</td>\n",
       "    </tr>\n",
       "    <tr>\n",
       "      <th>19</th>\n",
       "      <td>question_type_spelling</td>\n",
       "      <td>{'n_estimators': 1000, 'max_depth': 10}</td>\n",
       "      <td>0.499794</td>\n",
       "    </tr>\n",
       "    <tr>\n",
       "      <th>20</th>\n",
       "      <td>question_well_written</td>\n",
       "      <td>{'n_estimators': 100, 'max_depth': 3000}</td>\n",
       "      <td>0.190052</td>\n",
       "    </tr>\n",
       "    <tr>\n",
       "      <th>21</th>\n",
       "      <td>answer_helpful</td>\n",
       "      <td>{'n_estimators': 10, 'max_depth': 10}</td>\n",
       "      <td>0.084564</td>\n",
       "    </tr>\n",
       "    <tr>\n",
       "      <th>22</th>\n",
       "      <td>answer_level_of_information</td>\n",
       "      <td>{'n_estimators': 10, 'max_depth': 10}</td>\n",
       "      <td>0.089825</td>\n",
       "    </tr>\n",
       "    <tr>\n",
       "      <th>23</th>\n",
       "      <td>answer_plausible</td>\n",
       "      <td>{'n_estimators': 50, 'max_depth': 10}</td>\n",
       "      <td>0.096420</td>\n",
       "    </tr>\n",
       "    <tr>\n",
       "      <th>24</th>\n",
       "      <td>answer_relevance</td>\n",
       "      <td>{'n_estimators': 50, 'max_depth': 10}</td>\n",
       "      <td>0.099170</td>\n",
       "    </tr>\n",
       "    <tr>\n",
       "      <th>25</th>\n",
       "      <td>answer_satisfaction</td>\n",
       "      <td>{'n_estimators': 10, 'max_depth': 50}</td>\n",
       "      <td>0.048671</td>\n",
       "    </tr>\n",
       "    <tr>\n",
       "      <th>26</th>\n",
       "      <td>answer_type_instructions</td>\n",
       "      <td>{'n_estimators': 1000, 'max_depth': 3000}</td>\n",
       "      <td>0.254133</td>\n",
       "    </tr>\n",
       "    <tr>\n",
       "      <th>27</th>\n",
       "      <td>answer_type_procedure</td>\n",
       "      <td>{'n_estimators': 100, 'max_depth': 10}</td>\n",
       "      <td>0.166715</td>\n",
       "    </tr>\n",
       "    <tr>\n",
       "      <th>28</th>\n",
       "      <td>answer_type_reason_explanation</td>\n",
       "      <td>{'n_estimators': 100, 'max_depth': 100}</td>\n",
       "      <td>0.225812</td>\n",
       "    </tr>\n",
       "    <tr>\n",
       "      <th>29</th>\n",
       "      <td>answer_well_written</td>\n",
       "      <td>{'n_estimators': 100, 'max_depth': 1000}</td>\n",
       "      <td>0.125261</td>\n",
       "    </tr>\n",
       "  </tbody>\n",
       "</table>\n",
       "</div>"
      ],
      "text/plain": [
       "                                   aspect  \\\n",
       "0     question_asker_intent_understanding   \n",
       "1                  question_body_critical   \n",
       "2                 question_conversational   \n",
       "3            question_expect_short_answer   \n",
       "4                   question_fact_seeking   \n",
       "5   question_has_commonly_accepted_answer   \n",
       "6         question_interestingness_others   \n",
       "7           question_interestingness_self   \n",
       "8                   question_multi_intent   \n",
       "9          question_not_really_a_question   \n",
       "10               question_opinion_seeking   \n",
       "11                   question_type_choice   \n",
       "12                  question_type_compare   \n",
       "13              question_type_consequence   \n",
       "14               question_type_definition   \n",
       "15                   question_type_entity   \n",
       "16             question_type_instructions   \n",
       "17                question_type_procedure   \n",
       "18       question_type_reason_explanation   \n",
       "19                 question_type_spelling   \n",
       "20                  question_well_written   \n",
       "21                         answer_helpful   \n",
       "22            answer_level_of_information   \n",
       "23                       answer_plausible   \n",
       "24                       answer_relevance   \n",
       "25                    answer_satisfaction   \n",
       "26               answer_type_instructions   \n",
       "27                  answer_type_procedure   \n",
       "28         answer_type_reason_explanation   \n",
       "29                    answer_well_written   \n",
       "\n",
       "                          Best Hyperparameter  f1_macro  \n",
       "0      {'n_estimators': 100, 'max_depth': 10}  0.070412  \n",
       "1    {'n_estimators': 500, 'max_depth': 1000}  0.204072  \n",
       "2      {'n_estimators': 500, 'max_depth': 10}  0.203029  \n",
       "3      {'n_estimators': 500, 'max_depth': 50}  0.212890  \n",
       "4     {'n_estimators': 1000, 'max_depth': 50}  0.232296  \n",
       "5    {'n_estimators': 1000, 'max_depth': 100}  0.289682  \n",
       "6       {'n_estimators': 50, 'max_depth': 10}  0.081564  \n",
       "7      {'n_estimators': 100, 'max_depth': 50}  0.167667  \n",
       "8    {'n_estimators': 500, 'max_depth': 1000}  0.287905  \n",
       "9      {'n_estimators': 500, 'max_depth': 50}  0.277545  \n",
       "10   {'n_estimators': 1000, 'max_depth': 500}  0.344903  \n",
       "11   {'n_estimators': 500, 'max_depth': 2000}  0.343209  \n",
       "12     {'n_estimators': 100, 'max_depth': 10}  0.192396  \n",
       "13     {'n_estimators': 100, 'max_depth': 10}  0.197755  \n",
       "14     {'n_estimators': 100, 'max_depth': 50}  0.224407  \n",
       "15    {'n_estimators': 500, 'max_depth': 100}  0.271351  \n",
       "16   {'n_estimators': 1000, 'max_depth': 500}  0.370598  \n",
       "17     {'n_estimators': 100, 'max_depth': 10}  0.167101  \n",
       "18  {'n_estimators': 1000, 'max_depth': 2000}  0.305433  \n",
       "19    {'n_estimators': 1000, 'max_depth': 10}  0.499794  \n",
       "20   {'n_estimators': 100, 'max_depth': 3000}  0.190052  \n",
       "21      {'n_estimators': 10, 'max_depth': 10}  0.084564  \n",
       "22      {'n_estimators': 10, 'max_depth': 10}  0.089825  \n",
       "23      {'n_estimators': 50, 'max_depth': 10}  0.096420  \n",
       "24      {'n_estimators': 50, 'max_depth': 10}  0.099170  \n",
       "25      {'n_estimators': 10, 'max_depth': 50}  0.048671  \n",
       "26  {'n_estimators': 1000, 'max_depth': 3000}  0.254133  \n",
       "27     {'n_estimators': 100, 'max_depth': 10}  0.166715  \n",
       "28    {'n_estimators': 100, 'max_depth': 100}  0.225812  \n",
       "29   {'n_estimators': 100, 'max_depth': 1000}  0.125261  "
      ]
     },
     "execution_count": 48,
     "metadata": {},
     "output_type": "execute_result"
    }
   ],
   "source": [
    "XGB_Summary = pd.read_csv(os.path.join(pathPred, 'XGB_Summary.csv'))\n",
    "XGB_Summary"
   ]
  },
  {
   "cell_type": "code",
   "execution_count": 49,
   "id": "65751cd9",
   "metadata": {
    "execution": {
     "iopub.execute_input": "2022-11-24T18:43:10.410988Z",
     "iopub.status.busy": "2022-11-24T18:43:10.409803Z",
     "iopub.status.idle": "2022-11-24T18:43:11.552884Z",
     "shell.execute_reply": "2022-11-24T18:43:11.551402Z"
    },
    "papermill": {
     "duration": 1.198543,
     "end_time": "2022-11-24T18:43:11.555706",
     "exception": false,
     "start_time": "2022-11-24T18:43:10.357163",
     "status": "completed"
    },
    "tags": []
   },
   "outputs": [
    {
     "name": "stdout",
     "output_type": "stream",
     "text": [
      "Spearman's correlation coefficient:- 0.8094415752254648\n"
     ]
    }
   ],
   "source": [
    "Final_Pred = pd.DataFrame()\n",
    "for i in KNN_Pred.columns:\n",
    "    Final_Pred[i] = ( (KNN_Pred[i] + LR_Pred[i] + RF_Pred[i] + XGB_Pred[i]) / 4)\n",
    "\n",
    "print(\"Spearman's correlation coefficient:-\", spearmancoff(Final_Pred, y_test))"
   ]
  },
  {
   "cell_type": "code",
   "execution_count": 50,
   "id": "492171a5",
   "metadata": {
    "execution": {
     "iopub.execute_input": "2022-11-24T18:43:11.770065Z",
     "iopub.status.busy": "2022-11-24T18:43:11.769650Z",
     "iopub.status.idle": "2022-11-24T18:43:12.926278Z",
     "shell.execute_reply": "2022-11-24T18:43:12.924575Z"
    },
    "papermill": {
     "duration": 1.210504,
     "end_time": "2022-11-24T18:43:12.928452",
     "exception": false,
     "start_time": "2022-11-24T18:43:11.717948",
     "status": "completed"
    },
    "tags": []
   },
   "outputs": [
    {
     "name": "stdout",
     "output_type": "stream",
     "text": [
      "Spearman's correlation coefficient:- 0.8098598060093302\n"
     ]
    }
   ],
   "source": [
    "w = [0.7390,0.7524,0.7979,0.7931] # weights of different models\n",
    "Final_Pred = pd.DataFrame()\n",
    "for i in KNN_Pred.columns:\n",
    "    Final_Pred[i] = ( (KNN_Pred[i]*w[0] + LR_Pred[i]*w[1] + RF_Pred[i]*w[2] + XGB_Pred[i]*w[3]) / (sum(w)))\n",
    "\n",
    "print(\"Spearman's correlation coefficient:-\", spearmancoff(Final_Pred, y_test))"
   ]
  },
  {
   "cell_type": "code",
   "execution_count": 51,
   "id": "8bf251b9",
   "metadata": {
    "execution": {
     "iopub.execute_input": "2022-11-24T18:43:13.138306Z",
     "iopub.status.busy": "2022-11-24T18:43:13.137355Z",
     "iopub.status.idle": "2022-11-24T18:43:13.637877Z",
     "shell.execute_reply": "2022-11-24T18:43:13.636842Z"
    },
    "papermill": {
     "duration": 0.553359,
     "end_time": "2022-11-24T18:43:13.640272",
     "exception": false,
     "start_time": "2022-11-24T18:43:13.086913",
     "status": "completed"
    },
    "tags": []
   },
   "outputs": [
    {
     "data": {
      "image/png": "[encoded data removed]",
      "text/plain": [
       "<Figure size 1512x288 with 1 Axes>"
      ]
     },
     "metadata": {
      "needs_background": "light"
     },
     "output_type": "display_data"
    }
   ],
   "source": [
    "# set width of bar\n",
    "barWidth = 0.1\n",
    "fig = plt.subplots(figsize =(21, 4))\n",
    " \n",
    "# set height of bar\n",
    "y1 = KNN_Summary['f1_macro'][:21]\n",
    "y2 = LR_Summary['f1_macro'][:21]\n",
    "y3 = RF_Summary['mean_f1_macro'][:21]\n",
    "y4 = XGB_Summary['f1_macro'][:21]\n",
    " \n",
    "# Set position of bar on X axis\n",
    "br1 = np.arange(len(y1))\n",
    "br2 = [x + barWidth for x in br1]\n",
    "br3 = [x + barWidth for x in br2]\n",
    "br4 = [x + barWidth for x in br3]\n",
    " \n",
    "# Make the plot\n",
    "plt.bar(br1, y1, color ='pink', width = barWidth,\n",
    "        edgecolor ='grey', label ='KNN')\n",
    "plt.bar(br2, y2, color ='#20B2AA', width = barWidth,\n",
    "        edgecolor ='grey', label ='LR')\n",
    "plt.bar(br3, y3, color ='purple', width = barWidth,\n",
    "        edgecolor ='grey', label ='RF')\n",
    "plt.bar(br4, y4, color ='cyan', width = barWidth,\n",
    "        edgecolor ='grey', label ='XGB')\n",
    " \n",
    "# Adding Xticks\n",
    "plt.xlabel('Question Aspects', fontweight ='bold', fontsize = 15)\n",
    "plt.ylabel('Macro_F1_Score', fontweight ='bold', fontsize = 15)\n",
    "plt.xticks([r + barWidth for r in range(len(y1))],\n",
    "        KNN_Summary['aspect'][:21].values, rotation=90)#, fontweight='bold')\n",
    " \n",
    "plt.legend()\n",
    "plt.show()"
   ]
  },
  {
   "cell_type": "code",
   "execution_count": 52,
   "id": "667eb9e1",
   "metadata": {
    "execution": {
     "iopub.execute_input": "2022-11-24T18:43:13.744870Z",
     "iopub.status.busy": "2022-11-24T18:43:13.744491Z",
     "iopub.status.idle": "2022-11-24T18:43:14.252826Z",
     "shell.execute_reply": "2022-11-24T18:43:14.251781Z"
    },
    "papermill": {
     "duration": 0.563802,
     "end_time": "2022-11-24T18:43:14.255411",
     "exception": false,
     "start_time": "2022-11-24T18:43:13.691609",
     "status": "completed"
    },
    "tags": []
   },
   "outputs": [
    {
     "data": {
      "image/png": "[encoded data removed]",
      "text/plain": [
       "<Figure size 648x288 with 1 Axes>"
      ]
     },
     "metadata": {
      "needs_background": "light"
     },
     "output_type": "display_data"
    }
   ],
   "source": [
    "# set width of bar\n",
    "barWidth = 0.1\n",
    "fig = plt.subplots(figsize =(9, 4))\n",
    " \n",
    "# set height of bar\n",
    "y1 = KNN_Summary['f1_macro'][22:]\n",
    "y2 = LR_Summary['f1_macro'][22:]\n",
    "y3 = RF_Summary['mean_f1_macro'][22:]\n",
    "y4 = XGB_Summary['f1_macro'][22:]\n",
    " \n",
    "# Set position of bar on X axis\n",
    "br1 = np.arange(len(y1))\n",
    "br2 = [x + barWidth for x in br1]\n",
    "br3 = [x + barWidth for x in br2]\n",
    "br4 = [x + barWidth for x in br3]\n",
    " \n",
    "# Make the plot\n",
    "plt.bar(br1, y1, color ='pink', width = barWidth,\n",
    "        edgecolor ='grey', label ='KNN')\n",
    "plt.bar(br2, y2, color ='#20B2AA', width = barWidth,\n",
    "        edgecolor ='grey', label ='LR')\n",
    "plt.bar(br3, y3, color ='purple', width = barWidth,\n",
    "        edgecolor ='grey', label ='RF')\n",
    "plt.bar(br4, y4, color ='cyan', width = barWidth,\n",
    "        edgecolor ='grey', label ='XGB')\n",
    " \n",
    "# Adding Xticks\n",
    "plt.xlabel('Answer Aspects', fontweight ='bold', fontsize = 15)\n",
    "plt.ylabel('Macro_F1_Score', fontweight ='bold', fontsize = 15)\n",
    "plt.xticks([r + barWidth for r in range(len(y1))],\n",
    "        KNN_Summary['aspect'][22:].values, rotation=90)#, fontweight='bold')\n",
    " \n",
    "plt.legend()\n",
    "plt.show()"
   ]
  },
  {
   "cell_type": "code",
   "execution_count": 53,
   "id": "8cf91661",
   "metadata": {
    "execution": {
     "iopub.execute_input": "2022-11-24T18:43:14.364141Z",
     "iopub.status.busy": "2022-11-24T18:43:14.362220Z",
     "iopub.status.idle": "2022-11-24T18:43:14.395870Z",
     "shell.execute_reply": "2022-11-24T18:43:14.394922Z"
    },
    "papermill": {
     "duration": 0.088941,
     "end_time": "2022-11-24T18:43:14.398258",
     "exception": false,
     "start_time": "2022-11-24T18:43:14.309317",
     "status": "completed"
    },
    "tags": []
   },
   "outputs": [
    {
     "data": {
      "text/html": [
       "<div>\n",
       "<style scoped>\n",
       "    .dataframe tbody tr th:only-of-type {\n",
       "        vertical-align: middle;\n",
       "    }\n",
       "\n",
       "    .dataframe tbody tr th {\n",
       "        vertical-align: top;\n",
       "    }\n",
       "\n",
       "    .dataframe thead th {\n",
       "        text-align: right;\n",
       "    }\n",
       "</style>\n",
       "<table border=\"1\" class=\"dataframe\">\n",
       "  <thead>\n",
       "    <tr style=\"text-align: right;\">\n",
       "      <th></th>\n",
       "      <th>Model</th>\n",
       "      <th>Spearman correlation coefficient</th>\n",
       "    </tr>\n",
       "  </thead>\n",
       "  <tbody>\n",
       "    <tr>\n",
       "      <th>0</th>\n",
       "      <td>Random Model</td>\n",
       "      <td>0.1557</td>\n",
       "    </tr>\n",
       "    <tr>\n",
       "      <th>1</th>\n",
       "      <td>K-Nearest Neighbor</td>\n",
       "      <td>0.7390</td>\n",
       "    </tr>\n",
       "    <tr>\n",
       "      <th>2</th>\n",
       "      <td>Logistic Regression</td>\n",
       "      <td>0.7524</td>\n",
       "    </tr>\n",
       "    <tr>\n",
       "      <th>3</th>\n",
       "      <td>XGBoost</td>\n",
       "      <td>0.7931</td>\n",
       "    </tr>\n",
       "    <tr>\n",
       "      <th>4</th>\n",
       "      <td>Random Forest</td>\n",
       "      <td>0.7979</td>\n",
       "    </tr>\n",
       "    <tr>\n",
       "      <th>5</th>\n",
       "      <td>Average of KNN, LR, RF, XGB</td>\n",
       "      <td>0.8199</td>\n",
       "    </tr>\n",
       "    <tr>\n",
       "      <th>6</th>\n",
       "      <td>Weighted Average of KNN, LR, RF, XGB</td>\n",
       "      <td>0.8205</td>\n",
       "    </tr>\n",
       "  </tbody>\n",
       "</table>\n",
       "</div>"
      ],
      "text/plain": [
       "                                  Model  Spearman correlation coefficient\n",
       "0                          Random Model                            0.1557\n",
       "1                    K-Nearest Neighbor                            0.7390\n",
       "2                   Logistic Regression                            0.7524\n",
       "3                               XGBoost                            0.7931\n",
       "4                         Random Forest                            0.7979\n",
       "5           Average of KNN, LR, RF, XGB                            0.8199\n",
       "6  Weighted Average of KNN, LR, RF, XGB                            0.8205"
      ]
     },
     "execution_count": 53,
     "metadata": {},
     "output_type": "execute_result"
    }
   ],
   "source": [
    "import pandas as pd\n",
    "Result = pd.DataFrame(columns = ['Model', 'Spearman correlation coefficient'])\n",
    "Result.loc[len(Result.index)] = ['Random Model', 0.1557]\n",
    "Result.loc[len(Result.index)] = ['K-Nearest Neighbor', 0.7390]\n",
    "Result.loc[len(Result.index)] = ['Logistic Regression', 0.7524]\n",
    "Result.loc[len(Result.index)] = ['XGBoost', 0.7931]\n",
    "Result.loc[len(Result.index)] = ['Random Forest', 0.7979]\n",
    "Result.loc[len(Result.index)] = ['Average of KNN, LR, RF, XGB', 0.8199]\n",
    "Result.loc[len(Result.index)] = ['Weighted Average of KNN, LR, RF, XGB', 0.8205]\n",
    "Result"
   ]
  }
 ],
 "metadata": {
  "kernelspec": {
   "display_name": "Python 3",
   "language": "python",
   "name": "python3"
  },
  "language_info": {
   "codemirror_mode": {
    "name": "ipython",
    "version": 3
   },
   "file_extension": ".py",
   "mimetype": "text/x-python",
   "name": "python",
   "nbconvert_exporter": "python",
   "pygments_lexer": "ipython3",
   "version": "3.7.12"
  },
  "papermill": {
   "default_parameters": {},
   "duration": 83.958657,
   "end_time": "2022-11-24T18:43:15.376085",
   "environment_variables": {},
   "exception": null,
   "input_path": "__notebook__.ipynb",
   "output_path": "__notebook__.ipynb",
   "parameters": {},
   "start_time": "2022-11-24T18:41:51.417428",
   "version": "2.3.4"
  }
 },
 "nbformat": 4,
 "nbformat_minor": 5
}
